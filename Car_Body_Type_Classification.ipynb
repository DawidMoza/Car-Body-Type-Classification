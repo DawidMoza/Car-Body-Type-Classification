{
  "cells": [
    {
      "cell_type": "markdown",
      "source": [
        "Importowanie potrzebnych bibliotek i wczytywanie danych"
      ],
      "metadata": {
        "id": "wEpPX5Be3ne9"
      }
    },
    {
      "cell_type": "code",
      "execution_count": null,
      "metadata": {
        "id": "15SEEd85TGE6",
        "colab": {
          "base_uri": "https://localhost:8080/"
        },
        "outputId": "048bb4b7-1018-427c-c17a-dfb9a89e22c0"
      },
      "outputs": [
        {
          "output_type": "stream",
          "name": "stderr",
          "text": [
            "/usr/local/lib/python3.7/dist-packages/IPython/core/interactiveshell.py:2882: DtypeWarning: Columns (15,16,55) have mixed types.Specify dtype option on import or set low_memory=False.\n",
            "  exec(code_obj, self.user_global_ns, self.user_ns)\n"
          ]
        }
      ],
      "source": [
        "import pandas as pd\n",
        "\n",
        "df = pd.read_csv('https://raw.githubusercontent.com/DawidMoza/psi/main/New_cars_price.csv', index_col=0)"
      ]
    },
    {
      "cell_type": "markdown",
      "source": [
        "Pierwsza kolumna zawiera nazwy modeli, usuńmy ją i zamiast niej używajmy indeksów\n",
        "\n",
        "Przeanalizujmy dostępne kolumny i wybierzmy te które mają jakiekolwiek powiązanie z typem nadwozia, kolumną docelową będzie oczywiście \"Body Style\"\n",
        "\n",
        "Pozostawny wyłącznie te, które jakkolwiek odnoszą się do konstrukcji nadwozia i podwozia, są to:\n",
        "\n",
        "- Drivetrain\n",
        "- Passenger Capacity\n",
        "- Passenger Doors\n",
        "- Base Curb Weight (lbs)\n",
        "- Passenger Volume (ft³)\n",
        "- Wheelbase (in)\n",
        "- Track Width, Front (in)\n",
        "- Height, Overall (in)\n",
        "- Turning Diameter - Curb to Curb (ft)\n",
        "- Front Tire Size\n",
        "\n",
        "Uprośćmy również ich nazwy i usuńmy wiersze z brakującymi danymi."
      ],
      "metadata": {
        "id": "cVLMz1_D3lGW"
      }
    },
    {
      "cell_type": "code",
      "source": [
        "df.insert(0, \"\", range(len(df.index)), True)\n",
        "df.set_index(\"\", inplace=True)\n",
        "\n",
        "df = df[[\"Drivetrain\", \"Passenger Capacity\", \"Passenger Doors\", \"Base Curb Weight (lbs)\",\n",
        "         \"Passenger Volume (ft³)\", \"Wheelbase (in)\", \"Track Width, Front (in)\", \"Height, Overall (in)\",\n",
        "          \"Turning Diameter - Curb to Curb (ft)\", \"Front Tire Size\", \"Body Style\"]]\n",
        "df.columns = ['Drivetrain', 'Passenger Capacity', 'Passenger Doors', 'Weight', 'Passenger Volume',\n",
        "              'Wheelbase', 'Track Width', 'Height', 'Turning Diameter', 'Front Tire Size', 'Body Style']\n",
        "\n",
        "df.dropna(inplace=True)\n",
        "\n",
        "df.head()"
      ],
      "metadata": {
        "colab": {
          "base_uri": "https://localhost:8080/",
          "height": 220
        },
        "id": "ztQmhoNP3-03",
        "outputId": "b69419cc-0fef-4ac6-8916-a41b3e861f42"
      },
      "execution_count": null,
      "outputs": [
        {
          "output_type": "execute_result",
          "data": {
            "text/plain": [
              "          Drivetrain  Passenger Capacity  Passenger Doors Weight  \\\n",
              "                                                                   \n",
              "0  Front Wheel Drive                   5                4   3790   \n",
              "1  Front Wheel Drive                   5                4   3829   \n",
              "2  Front Wheel Drive                   5                4   3821   \n",
              "3  Front Wheel Drive                   5                4   3783   \n",
              "4    All Wheel Drive                   5                4   4026   \n",
              "\n",
              "   Passenger Volume  Wheelbase  Track Width Height Turning Diameter  \\\n",
              "                                                                      \n",
              "0             104.0      108.3         64.2   65.7               39   \n",
              "1             104.0      108.3         64.2   65.7               39   \n",
              "2             104.0      108.3         64.2   65.7               39   \n",
              "3             104.0      108.3         64.2   65.7               39   \n",
              "4             104.0      108.3         64.2   65.7               39   \n",
              "\n",
              "  Front Tire Size     Body Style  \n",
              "                                  \n",
              "0     P235/55HR19  Sport Utility  \n",
              "1     P235/55HR19  Sport Utility  \n",
              "2     P255/45VR20  Sport Utility  \n",
              "3     P235/55HR19  Sport Utility  \n",
              "4     P235/55HR19  Sport Utility  "
            ],
            "text/html": [
              "\n",
              "  <div id=\"df-667b4ca0-2efb-4aa6-9b2f-260de3154f86\">\n",
              "    <div class=\"colab-df-container\">\n",
              "      <div>\n",
              "<style scoped>\n",
              "    .dataframe tbody tr th:only-of-type {\n",
              "        vertical-align: middle;\n",
              "    }\n",
              "\n",
              "    .dataframe tbody tr th {\n",
              "        vertical-align: top;\n",
              "    }\n",
              "\n",
              "    .dataframe thead th {\n",
              "        text-align: right;\n",
              "    }\n",
              "</style>\n",
              "<table border=\"1\" class=\"dataframe\">\n",
              "  <thead>\n",
              "    <tr style=\"text-align: right;\">\n",
              "      <th></th>\n",
              "      <th>Drivetrain</th>\n",
              "      <th>Passenger Capacity</th>\n",
              "      <th>Passenger Doors</th>\n",
              "      <th>Weight</th>\n",
              "      <th>Passenger Volume</th>\n",
              "      <th>Wheelbase</th>\n",
              "      <th>Track Width</th>\n",
              "      <th>Height</th>\n",
              "      <th>Turning Diameter</th>\n",
              "      <th>Front Tire Size</th>\n",
              "      <th>Body Style</th>\n",
              "    </tr>\n",
              "    <tr>\n",
              "      <th></th>\n",
              "      <th></th>\n",
              "      <th></th>\n",
              "      <th></th>\n",
              "      <th></th>\n",
              "      <th></th>\n",
              "      <th></th>\n",
              "      <th></th>\n",
              "      <th></th>\n",
              "      <th></th>\n",
              "      <th></th>\n",
              "      <th></th>\n",
              "    </tr>\n",
              "  </thead>\n",
              "  <tbody>\n",
              "    <tr>\n",
              "      <th>0</th>\n",
              "      <td>Front Wheel Drive</td>\n",
              "      <td>5</td>\n",
              "      <td>4</td>\n",
              "      <td>3790</td>\n",
              "      <td>104.0</td>\n",
              "      <td>108.3</td>\n",
              "      <td>64.2</td>\n",
              "      <td>65.7</td>\n",
              "      <td>39</td>\n",
              "      <td>P235/55HR19</td>\n",
              "      <td>Sport Utility</td>\n",
              "    </tr>\n",
              "    <tr>\n",
              "      <th>1</th>\n",
              "      <td>Front Wheel Drive</td>\n",
              "      <td>5</td>\n",
              "      <td>4</td>\n",
              "      <td>3829</td>\n",
              "      <td>104.0</td>\n",
              "      <td>108.3</td>\n",
              "      <td>64.2</td>\n",
              "      <td>65.7</td>\n",
              "      <td>39</td>\n",
              "      <td>P235/55HR19</td>\n",
              "      <td>Sport Utility</td>\n",
              "    </tr>\n",
              "    <tr>\n",
              "      <th>2</th>\n",
              "      <td>Front Wheel Drive</td>\n",
              "      <td>5</td>\n",
              "      <td>4</td>\n",
              "      <td>3821</td>\n",
              "      <td>104.0</td>\n",
              "      <td>108.3</td>\n",
              "      <td>64.2</td>\n",
              "      <td>65.7</td>\n",
              "      <td>39</td>\n",
              "      <td>P255/45VR20</td>\n",
              "      <td>Sport Utility</td>\n",
              "    </tr>\n",
              "    <tr>\n",
              "      <th>3</th>\n",
              "      <td>Front Wheel Drive</td>\n",
              "      <td>5</td>\n",
              "      <td>4</td>\n",
              "      <td>3783</td>\n",
              "      <td>104.0</td>\n",
              "      <td>108.3</td>\n",
              "      <td>64.2</td>\n",
              "      <td>65.7</td>\n",
              "      <td>39</td>\n",
              "      <td>P235/55HR19</td>\n",
              "      <td>Sport Utility</td>\n",
              "    </tr>\n",
              "    <tr>\n",
              "      <th>4</th>\n",
              "      <td>All Wheel Drive</td>\n",
              "      <td>5</td>\n",
              "      <td>4</td>\n",
              "      <td>4026</td>\n",
              "      <td>104.0</td>\n",
              "      <td>108.3</td>\n",
              "      <td>64.2</td>\n",
              "      <td>65.7</td>\n",
              "      <td>39</td>\n",
              "      <td>P235/55HR19</td>\n",
              "      <td>Sport Utility</td>\n",
              "    </tr>\n",
              "  </tbody>\n",
              "</table>\n",
              "</div>\n",
              "      <button class=\"colab-df-convert\" onclick=\"convertToInteractive('df-667b4ca0-2efb-4aa6-9b2f-260de3154f86')\"\n",
              "              title=\"Convert this dataframe to an interactive table.\"\n",
              "              style=\"display:none;\">\n",
              "        \n",
              "  <svg xmlns=\"http://www.w3.org/2000/svg\" height=\"24px\"viewBox=\"0 0 24 24\"\n",
              "       width=\"24px\">\n",
              "    <path d=\"M0 0h24v24H0V0z\" fill=\"none\"/>\n",
              "    <path d=\"M18.56 5.44l.94 2.06.94-2.06 2.06-.94-2.06-.94-.94-2.06-.94 2.06-2.06.94zm-11 1L8.5 8.5l.94-2.06 2.06-.94-2.06-.94L8.5 2.5l-.94 2.06-2.06.94zm10 10l.94 2.06.94-2.06 2.06-.94-2.06-.94-.94-2.06-.94 2.06-2.06.94z\"/><path d=\"M17.41 7.96l-1.37-1.37c-.4-.4-.92-.59-1.43-.59-.52 0-1.04.2-1.43.59L10.3 9.45l-7.72 7.72c-.78.78-.78 2.05 0 2.83L4 21.41c.39.39.9.59 1.41.59.51 0 1.02-.2 1.41-.59l7.78-7.78 2.81-2.81c.8-.78.8-2.07 0-2.86zM5.41 20L4 18.59l7.72-7.72 1.47 1.35L5.41 20z\"/>\n",
              "  </svg>\n",
              "      </button>\n",
              "      \n",
              "  <style>\n",
              "    .colab-df-container {\n",
              "      display:flex;\n",
              "      flex-wrap:wrap;\n",
              "      gap: 12px;\n",
              "    }\n",
              "\n",
              "    .colab-df-convert {\n",
              "      background-color: #E8F0FE;\n",
              "      border: none;\n",
              "      border-radius: 50%;\n",
              "      cursor: pointer;\n",
              "      display: none;\n",
              "      fill: #1967D2;\n",
              "      height: 32px;\n",
              "      padding: 0 0 0 0;\n",
              "      width: 32px;\n",
              "    }\n",
              "\n",
              "    .colab-df-convert:hover {\n",
              "      background-color: #E2EBFA;\n",
              "      box-shadow: 0px 1px 2px rgba(60, 64, 67, 0.3), 0px 1px 3px 1px rgba(60, 64, 67, 0.15);\n",
              "      fill: #174EA6;\n",
              "    }\n",
              "\n",
              "    [theme=dark] .colab-df-convert {\n",
              "      background-color: #3B4455;\n",
              "      fill: #D2E3FC;\n",
              "    }\n",
              "\n",
              "    [theme=dark] .colab-df-convert:hover {\n",
              "      background-color: #434B5C;\n",
              "      box-shadow: 0px 1px 3px 1px rgba(0, 0, 0, 0.15);\n",
              "      filter: drop-shadow(0px 1px 2px rgba(0, 0, 0, 0.3));\n",
              "      fill: #FFFFFF;\n",
              "    }\n",
              "  </style>\n",
              "\n",
              "      <script>\n",
              "        const buttonEl =\n",
              "          document.querySelector('#df-667b4ca0-2efb-4aa6-9b2f-260de3154f86 button.colab-df-convert');\n",
              "        buttonEl.style.display =\n",
              "          google.colab.kernel.accessAllowed ? 'block' : 'none';\n",
              "\n",
              "        async function convertToInteractive(key) {\n",
              "          const element = document.querySelector('#df-667b4ca0-2efb-4aa6-9b2f-260de3154f86');\n",
              "          const dataTable =\n",
              "            await google.colab.kernel.invokeFunction('convertToInteractive',\n",
              "                                                     [key], {});\n",
              "          if (!dataTable) return;\n",
              "\n",
              "          const docLinkHtml = 'Like what you see? Visit the ' +\n",
              "            '<a target=\"_blank\" href=https://colab.research.google.com/notebooks/data_table.ipynb>data table notebook</a>'\n",
              "            + ' to learn more about interactive tables.';\n",
              "          element.innerHTML = '';\n",
              "          dataTable['output_type'] = 'display_data';\n",
              "          await google.colab.output.renderOutput(dataTable, element);\n",
              "          const docLink = document.createElement('div');\n",
              "          docLink.innerHTML = docLinkHtml;\n",
              "          element.appendChild(docLink);\n",
              "        }\n",
              "      </script>\n",
              "    </div>\n",
              "  </div>\n",
              "  "
            ]
          },
          "metadata": {},
          "execution_count": 232
        }
      ]
    },
    {
      "cell_type": "markdown",
      "source": [
        "Kolumna Front Tire Size zawiera dane, które nie są w formacie liczbowym, musimy je przekształcić. Najpierw sprawdźmy, czy wszystkie dane w tej kolumnie są prawidłowe, a następnie podzielmy ją na 3 inne kolumny, opisujące szerokość opony, jej profil, a także wielkość felgi.\n",
        "\n",
        "Niektóre komórki zawierają dodatkowe oznaczenia, które należy w pierwszej kolejności usunąć."
      ],
      "metadata": {
        "id": "6lmAf4B17emp"
      }
    },
    {
      "cell_type": "code",
      "source": [
        "df.loc[~df[\"Front Tire Size\"].str[0].str.isdigit(), \"Front Tire Size\"] = df.loc[~df[\"Front Tire Size\"].str[0].str.isdigit(), \"Front Tire Size\"].str[1:]\n",
        "df.loc[df[\"Front Tire Size\"].str.len() == 10, \"Front Tire Size\"] = df.loc[df[\"Front Tire Size\"].str.len() == 10, \"Front Tire Size\"].str[:6] + df.loc[df[\"Front Tire Size\"].str.len() == 10, \"Front Tire Size\"].str[7:]\n",
        "df.drop(df[df[\"Front Tire Size\"].str.len() != 9].index, inplace=True)\n",
        "\n",
        "tiresWidth = df[\"Front Tire Size\"].str[:3]\n",
        "tiresProfile = df[\"Front Tire Size\"].str[4:6]\n",
        "rimSize = df[\"Front Tire Size\"].str[7:9]\n",
        "\n",
        "df.insert(10, \"Tire Width\", tiresWidth, True)\n",
        "df.insert(11, \"Tire Profle\", tiresProfile, True)\n",
        "df.insert(12, \"Rim Size\", rimSize, True)\n",
        "\n",
        "df.drop(\"Front Tire Size\", axis=1, inplace=True)\n",
        "\n",
        "df.head()"
      ],
      "metadata": {
        "colab": {
          "base_uri": "https://localhost:8080/",
          "height": 220
        },
        "id": "jYSiyg0u9P-l",
        "outputId": "4be313fc-45ea-4459-d36e-af67daab06a5"
      },
      "execution_count": null,
      "outputs": [
        {
          "output_type": "execute_result",
          "data": {
            "text/plain": [
              "          Drivetrain  Passenger Capacity  Passenger Doors Weight  \\\n",
              "                                                                   \n",
              "0  Front Wheel Drive                   5                4   3790   \n",
              "1  Front Wheel Drive                   5                4   3829   \n",
              "2  Front Wheel Drive                   5                4   3821   \n",
              "3  Front Wheel Drive                   5                4   3783   \n",
              "4    All Wheel Drive                   5                4   4026   \n",
              "\n",
              "   Passenger Volume  Wheelbase  Track Width Height Turning Diameter  \\\n",
              "                                                                      \n",
              "0             104.0      108.3         64.2   65.7               39   \n",
              "1             104.0      108.3         64.2   65.7               39   \n",
              "2             104.0      108.3         64.2   65.7               39   \n",
              "3             104.0      108.3         64.2   65.7               39   \n",
              "4             104.0      108.3         64.2   65.7               39   \n",
              "\n",
              "  Tire Width Tire Profle Rim Size     Body Style  \n",
              "                                                  \n",
              "0        235          55       19  Sport Utility  \n",
              "1        235          55       19  Sport Utility  \n",
              "2        255          45       20  Sport Utility  \n",
              "3        235          55       19  Sport Utility  \n",
              "4        235          55       19  Sport Utility  "
            ],
            "text/html": [
              "\n",
              "  <div id=\"df-829379e9-7af9-44f6-9680-3273921d9243\">\n",
              "    <div class=\"colab-df-container\">\n",
              "      <div>\n",
              "<style scoped>\n",
              "    .dataframe tbody tr th:only-of-type {\n",
              "        vertical-align: middle;\n",
              "    }\n",
              "\n",
              "    .dataframe tbody tr th {\n",
              "        vertical-align: top;\n",
              "    }\n",
              "\n",
              "    .dataframe thead th {\n",
              "        text-align: right;\n",
              "    }\n",
              "</style>\n",
              "<table border=\"1\" class=\"dataframe\">\n",
              "  <thead>\n",
              "    <tr style=\"text-align: right;\">\n",
              "      <th></th>\n",
              "      <th>Drivetrain</th>\n",
              "      <th>Passenger Capacity</th>\n",
              "      <th>Passenger Doors</th>\n",
              "      <th>Weight</th>\n",
              "      <th>Passenger Volume</th>\n",
              "      <th>Wheelbase</th>\n",
              "      <th>Track Width</th>\n",
              "      <th>Height</th>\n",
              "      <th>Turning Diameter</th>\n",
              "      <th>Tire Width</th>\n",
              "      <th>Tire Profle</th>\n",
              "      <th>Rim Size</th>\n",
              "      <th>Body Style</th>\n",
              "    </tr>\n",
              "    <tr>\n",
              "      <th></th>\n",
              "      <th></th>\n",
              "      <th></th>\n",
              "      <th></th>\n",
              "      <th></th>\n",
              "      <th></th>\n",
              "      <th></th>\n",
              "      <th></th>\n",
              "      <th></th>\n",
              "      <th></th>\n",
              "      <th></th>\n",
              "      <th></th>\n",
              "      <th></th>\n",
              "      <th></th>\n",
              "    </tr>\n",
              "  </thead>\n",
              "  <tbody>\n",
              "    <tr>\n",
              "      <th>0</th>\n",
              "      <td>Front Wheel Drive</td>\n",
              "      <td>5</td>\n",
              "      <td>4</td>\n",
              "      <td>3790</td>\n",
              "      <td>104.0</td>\n",
              "      <td>108.3</td>\n",
              "      <td>64.2</td>\n",
              "      <td>65.7</td>\n",
              "      <td>39</td>\n",
              "      <td>235</td>\n",
              "      <td>55</td>\n",
              "      <td>19</td>\n",
              "      <td>Sport Utility</td>\n",
              "    </tr>\n",
              "    <tr>\n",
              "      <th>1</th>\n",
              "      <td>Front Wheel Drive</td>\n",
              "      <td>5</td>\n",
              "      <td>4</td>\n",
              "      <td>3829</td>\n",
              "      <td>104.0</td>\n",
              "      <td>108.3</td>\n",
              "      <td>64.2</td>\n",
              "      <td>65.7</td>\n",
              "      <td>39</td>\n",
              "      <td>235</td>\n",
              "      <td>55</td>\n",
              "      <td>19</td>\n",
              "      <td>Sport Utility</td>\n",
              "    </tr>\n",
              "    <tr>\n",
              "      <th>2</th>\n",
              "      <td>Front Wheel Drive</td>\n",
              "      <td>5</td>\n",
              "      <td>4</td>\n",
              "      <td>3821</td>\n",
              "      <td>104.0</td>\n",
              "      <td>108.3</td>\n",
              "      <td>64.2</td>\n",
              "      <td>65.7</td>\n",
              "      <td>39</td>\n",
              "      <td>255</td>\n",
              "      <td>45</td>\n",
              "      <td>20</td>\n",
              "      <td>Sport Utility</td>\n",
              "    </tr>\n",
              "    <tr>\n",
              "      <th>3</th>\n",
              "      <td>Front Wheel Drive</td>\n",
              "      <td>5</td>\n",
              "      <td>4</td>\n",
              "      <td>3783</td>\n",
              "      <td>104.0</td>\n",
              "      <td>108.3</td>\n",
              "      <td>64.2</td>\n",
              "      <td>65.7</td>\n",
              "      <td>39</td>\n",
              "      <td>235</td>\n",
              "      <td>55</td>\n",
              "      <td>19</td>\n",
              "      <td>Sport Utility</td>\n",
              "    </tr>\n",
              "    <tr>\n",
              "      <th>4</th>\n",
              "      <td>All Wheel Drive</td>\n",
              "      <td>5</td>\n",
              "      <td>4</td>\n",
              "      <td>4026</td>\n",
              "      <td>104.0</td>\n",
              "      <td>108.3</td>\n",
              "      <td>64.2</td>\n",
              "      <td>65.7</td>\n",
              "      <td>39</td>\n",
              "      <td>235</td>\n",
              "      <td>55</td>\n",
              "      <td>19</td>\n",
              "      <td>Sport Utility</td>\n",
              "    </tr>\n",
              "  </tbody>\n",
              "</table>\n",
              "</div>\n",
              "      <button class=\"colab-df-convert\" onclick=\"convertToInteractive('df-829379e9-7af9-44f6-9680-3273921d9243')\"\n",
              "              title=\"Convert this dataframe to an interactive table.\"\n",
              "              style=\"display:none;\">\n",
              "        \n",
              "  <svg xmlns=\"http://www.w3.org/2000/svg\" height=\"24px\"viewBox=\"0 0 24 24\"\n",
              "       width=\"24px\">\n",
              "    <path d=\"M0 0h24v24H0V0z\" fill=\"none\"/>\n",
              "    <path d=\"M18.56 5.44l.94 2.06.94-2.06 2.06-.94-2.06-.94-.94-2.06-.94 2.06-2.06.94zm-11 1L8.5 8.5l.94-2.06 2.06-.94-2.06-.94L8.5 2.5l-.94 2.06-2.06.94zm10 10l.94 2.06.94-2.06 2.06-.94-2.06-.94-.94-2.06-.94 2.06-2.06.94z\"/><path d=\"M17.41 7.96l-1.37-1.37c-.4-.4-.92-.59-1.43-.59-.52 0-1.04.2-1.43.59L10.3 9.45l-7.72 7.72c-.78.78-.78 2.05 0 2.83L4 21.41c.39.39.9.59 1.41.59.51 0 1.02-.2 1.41-.59l7.78-7.78 2.81-2.81c.8-.78.8-2.07 0-2.86zM5.41 20L4 18.59l7.72-7.72 1.47 1.35L5.41 20z\"/>\n",
              "  </svg>\n",
              "      </button>\n",
              "      \n",
              "  <style>\n",
              "    .colab-df-container {\n",
              "      display:flex;\n",
              "      flex-wrap:wrap;\n",
              "      gap: 12px;\n",
              "    }\n",
              "\n",
              "    .colab-df-convert {\n",
              "      background-color: #E8F0FE;\n",
              "      border: none;\n",
              "      border-radius: 50%;\n",
              "      cursor: pointer;\n",
              "      display: none;\n",
              "      fill: #1967D2;\n",
              "      height: 32px;\n",
              "      padding: 0 0 0 0;\n",
              "      width: 32px;\n",
              "    }\n",
              "\n",
              "    .colab-df-convert:hover {\n",
              "      background-color: #E2EBFA;\n",
              "      box-shadow: 0px 1px 2px rgba(60, 64, 67, 0.3), 0px 1px 3px 1px rgba(60, 64, 67, 0.15);\n",
              "      fill: #174EA6;\n",
              "    }\n",
              "\n",
              "    [theme=dark] .colab-df-convert {\n",
              "      background-color: #3B4455;\n",
              "      fill: #D2E3FC;\n",
              "    }\n",
              "\n",
              "    [theme=dark] .colab-df-convert:hover {\n",
              "      background-color: #434B5C;\n",
              "      box-shadow: 0px 1px 3px 1px rgba(0, 0, 0, 0.15);\n",
              "      filter: drop-shadow(0px 1px 2px rgba(0, 0, 0, 0.3));\n",
              "      fill: #FFFFFF;\n",
              "    }\n",
              "  </style>\n",
              "\n",
              "      <script>\n",
              "        const buttonEl =\n",
              "          document.querySelector('#df-829379e9-7af9-44f6-9680-3273921d9243 button.colab-df-convert');\n",
              "        buttonEl.style.display =\n",
              "          google.colab.kernel.accessAllowed ? 'block' : 'none';\n",
              "\n",
              "        async function convertToInteractive(key) {\n",
              "          const element = document.querySelector('#df-829379e9-7af9-44f6-9680-3273921d9243');\n",
              "          const dataTable =\n",
              "            await google.colab.kernel.invokeFunction('convertToInteractive',\n",
              "                                                     [key], {});\n",
              "          if (!dataTable) return;\n",
              "\n",
              "          const docLinkHtml = 'Like what you see? Visit the ' +\n",
              "            '<a target=\"_blank\" href=https://colab.research.google.com/notebooks/data_table.ipynb>data table notebook</a>'\n",
              "            + ' to learn more about interactive tables.';\n",
              "          element.innerHTML = '';\n",
              "          dataTable['output_type'] = 'display_data';\n",
              "          await google.colab.output.renderOutput(dataTable, element);\n",
              "          const docLink = document.createElement('div');\n",
              "          docLink.innerHTML = docLinkHtml;\n",
              "          element.appendChild(docLink);\n",
              "        }\n",
              "      </script>\n",
              "    </div>\n",
              "  </div>\n",
              "  "
            ]
          },
          "metadata": {},
          "execution_count": 233
        }
      ]
    },
    {
      "cell_type": "markdown",
      "source": [
        "Przeanalizujmy czy wartości pozostałe w kolumnach są na pewno prawidłowe, w tym celu wypiszmy wszytskie wartości unikalne w poszukiwaniu dziwnych, odstających danych.\n",
        "  \n",
        "Drivetrain\n",
        "\n",
        "  - rodzaje napędu zapisane są w różne sposoby\n",
        "  - '2-Wheel Drive' oraz '2 Wheel Drive' nie wskazują które koła są napędzane, zbyt ogólne dane"
      ],
      "metadata": {
        "id": "CkZ6KJ2ASGsm"
      }
    },
    {
      "cell_type": "code",
      "source": [
        "print(df[\"Drivetrain\"].unique())\n",
        "\n",
        "df[\"Drivetrain\"].replace(\"Front Wheel Drive\", \"0\", inplace=True)\n",
        "df[\"Drivetrain\"].replace(\"All Wheel Drive\", \"3\", inplace=True)\n",
        "df[\"Drivetrain\"].replace(\"4 Wheel Drive\", \"2\", inplace=True)\n",
        "df[\"Drivetrain\"].replace(\"Rear Wheel Drive\", \"1\", inplace=True)\n",
        "df[\"Drivetrain\"].replace(\"All-Wheel Drive\", \"3\", inplace=True)\n",
        "df[\"Drivetrain\"].replace(\"Front-Wheel Drive\", \"0\", inplace=True)\n",
        "df[\"Drivetrain\"].replace(\"All wheel drive\", \"3\", inplace=True)\n",
        "df[\"Drivetrain\"].replace(\"All-wheel drive\", \"3\", inplace=True)\n",
        "df[\"Drivetrain\"].replace(\"AWD\", \"3\", inplace=True)\n",
        "df[\"Drivetrain\"].replace(\"4-Wheel Drive\", \"2\", inplace=True)\n",
        "df[\"Drivetrain\"].replace(\"Rear wheel drive\", \"1\", inplace=True)\n",
        "df[\"Drivetrain\"].replace(\"Front wheel drive\", \"0\", inplace=True)\n",
        "df[\"Drivetrain\"].replace(\"Four Wheel Drive\", \"2\", inplace=True)\n",
        "df[\"Drivetrain\"].replace(\"Front-wheel drive\", \"0\", inplace=True)\n",
        "df[\"Drivetrain\"].replace(\"Four wheel drive\", \"2\", inplace=True)\n",
        "#df[\"Drivetrain\"].replace(\"2-Wheel Drive\", \"0\", inplace=True)\n",
        "#df[\"Drivetrain\"].replace(\"2 Wheel Drive\", \"0\", inplace=True)\n",
        "df[\"Drivetrain\"].replace(\"Four-Wheel Drive\", \"2\", inplace=True)\n",
        "df[\"Drivetrain\"].replace(\"Rear-Wheel Drive\", \"1\", inplace=True)\n",
        "\n",
        "df.drop(df[df[\"Drivetrain\"] == \"2-Wheel Drive\"].index, inplace=True)\n",
        "df.drop(df[df[\"Drivetrain\"] == \"2 Wheel Drive\"].index, inplace=True)\n",
        "\n",
        "df['Drivetrain'] = pd.to_numeric(df['Drivetrain'])\n",
        "\n",
        "print(df[\"Drivetrain\"].unique())"
      ],
      "metadata": {
        "colab": {
          "base_uri": "https://localhost:8080/"
        },
        "id": "lkYFjizLUJXD",
        "outputId": "5795d130-457f-4afb-d141-554121d4d7a1"
      },
      "execution_count": null,
      "outputs": [
        {
          "output_type": "stream",
          "name": "stdout",
          "text": [
            "['Front Wheel Drive' 'All Wheel Drive' '4 Wheel Drive' 'Rear Wheel Drive'\n",
            " 'All-Wheel Drive' 'Front-Wheel Drive' 'All wheel drive' 'All-wheel drive'\n",
            " 'AWD' '4-Wheel Drive' 'Rear wheel drive' 'Front wheel drive'\n",
            " 'Four Wheel Drive' 'Front-wheel drive' 'Four wheel drive' '2-Wheel Drive'\n",
            " '2 Wheel Drive' 'Four-Wheel Drive' 'Rear-Wheel Drive']\n",
            "[0 3 2 1]\n"
          ]
        }
      ]
    },
    {
      "cell_type": "markdown",
      "source": [
        "- samochody mogące pomieścić tylko 1 pasażera"
      ],
      "metadata": {
        "id": "_tC9dtEBUJzf"
      }
    },
    {
      "cell_type": "code",
      "source": [
        "print(df[\"Passenger Capacity\"].unique())\n",
        "\n",
        "print(df.loc[df[\"Passenger Capacity\"] == 1])\n",
        "\n",
        "#przeszukanie danych zasugeruje nam, że jest to 2018 Dodge Challenger Specs: SRT Demon RWD, który w rzecywistości pomieści więcej pasażerów\n",
        "\n",
        "df.drop(7061, inplace=True)\n",
        "\n",
        "print(df[\"Passenger Capacity\"].unique())"
      ],
      "metadata": {
        "colab": {
          "base_uri": "https://localhost:8080/"
        },
        "id": "uW2qR6d1UKf7",
        "outputId": "66e5ff7a-d083-4e77-a977-ffe754e10416"
      },
      "execution_count": null,
      "outputs": [
        {
          "output_type": "stream",
          "name": "stdout",
          "text": [
            "[5 7 6 2 4 8 1]\n",
            "      Drivetrain  Passenger Capacity  Passenger Doors Weight  \\\n",
            "                                                               \n",
            "7061           1                   1                2   4280   \n",
            "\n",
            "      Passenger Volume  Wheelbase  Track Width Height Turning Diameter  \\\n",
            "                                                                         \n",
            "7061              93.9      116.2         65.8   57.4               38   \n",
            "\n",
            "     Tire Width Tire Profle Rim Size Body Style  \n",
            "                                                 \n",
            "7061        315          40       18    2dr Car  \n",
            "[5 7 6 2 4 8]\n"
          ]
        }
      ]
    },
    {
      "cell_type": "markdown",
      "source": [
        "- samochody z 3 drzwiami dla pasażerów"
      ],
      "metadata": {
        "id": "uIITgB10UK6s"
      }
    },
    {
      "cell_type": "code",
      "source": [
        ""
      ],
      "metadata": {
        "id": "IE-QjWFhULM0"
      },
      "execution_count": null,
      "outputs": []
    },
    {
      "cell_type": "markdown",
      "source": [
        "- zły format danych wagi"
      ],
      "metadata": {
        "id": "PeyJzHNWULcJ"
      }
    },
    {
      "cell_type": "code",
      "source": [
        ""
      ],
      "metadata": {
        "id": "Y07o-iDvUSum"
      },
      "execution_count": null,
      "outputs": []
    },
    {
      "cell_type": "markdown",
      "source": [
        "- zły format danych wysokości"
      ],
      "metadata": {
        "id": "yfKVMyuwUTpk"
      }
    },
    {
      "cell_type": "code",
      "source": [
        ""
      ],
      "metadata": {
        "id": "nw7R11VDUT9T"
      },
      "execution_count": null,
      "outputs": []
    },
    {
      "cell_type": "markdown",
      "source": [
        "- promienie zawracania zawierające jednostki, zły format danych"
      ],
      "metadata": {
        "id": "dmpOzP7VUUP_"
      }
    },
    {
      "cell_type": "code",
      "source": [
        ""
      ],
      "metadata": {
        "id": "Dyl723EVUUr8"
      },
      "execution_count": null,
      "outputs": []
    },
    {
      "cell_type": "markdown",
      "source": [
        "- szerokości opon z dodatkowymi oznaczeniami, zły format danych"
      ],
      "metadata": {
        "id": "VohjOOKNUVDg"
      }
    },
    {
      "cell_type": "code",
      "source": [
        ""
      ],
      "metadata": {
        "id": "vuDzwE4FUVSs"
      },
      "execution_count": null,
      "outputs": []
    },
    {
      "cell_type": "markdown",
      "source": [
        "- profile opon z dodatkowym oznaczeniem, zły format danych"
      ],
      "metadata": {
        "id": "ijvSWsxWUVrL"
      }
    },
    {
      "cell_type": "code",
      "source": [
        ""
      ],
      "metadata": {
        "id": "JXCBHKdDUgw9"
      },
      "execution_count": null,
      "outputs": []
    },
    {
      "cell_type": "markdown",
      "source": [
        "- typy nadwozia niewskazujące na jego kształt"
      ],
      "metadata": {
        "id": "xBLkHbJIUhkF"
      }
    },
    {
      "cell_type": "code",
      "source": [
        ""
      ],
      "metadata": {
        "id": "ae6d-pUjUh97"
      },
      "execution_count": null,
      "outputs": []
    }
  ],
  "metadata": {
    "kernelspec": {
      "display_name": "Python 3",
      "language": "python",
      "name": "python3"
    },
    "language_info": {
      "codemirror_mode": {
        "name": "ipython",
        "version": 3
      },
      "file_extension": ".py",
      "mimetype": "text/x-python",
      "name": "python",
      "nbconvert_exporter": "python",
      "pygments_lexer": "ipython3",
      "version": "3.8.5"
    },
    "colab": {
      "name": "Car Body Type Classification.ipynb",
      "provenance": [],
      "collapsed_sections": []
    }
  },
  "nbformat": 4,
  "nbformat_minor": 0
}