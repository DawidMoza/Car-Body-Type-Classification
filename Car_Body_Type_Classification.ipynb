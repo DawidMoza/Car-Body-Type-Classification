{
  "cells": [
    {
      "cell_type": "markdown",
      "source": [
        "Importowanie potrzebnych bibliotek i wczytywanie danych"
      ],
      "metadata": {
        "id": "wEpPX5Be3ne9"
      }
    },
    {
      "cell_type": "code",
      "execution_count": 194,
      "metadata": {
        "id": "15SEEd85TGE6",
        "colab": {
          "base_uri": "https://localhost:8080/"
        },
        "outputId": "0d086ea5-ba4b-46c0-e842-ace764a11331"
      },
      "outputs": [
        {
          "output_type": "stream",
          "name": "stderr",
          "text": [
            "/usr/local/lib/python3.7/dist-packages/IPython/core/interactiveshell.py:2882: DtypeWarning: Columns (15,16,55) have mixed types.Specify dtype option on import or set low_memory=False.\n",
            "  exec(code_obj, self.user_global_ns, self.user_ns)\n"
          ]
        }
      ],
      "source": [
        "import pandas as pd\n",
        "import numpy as np\n",
        "import matplotlib.pyplot as plt\n",
        "\n",
        "df = pd.read_csv('https://raw.githubusercontent.com/DawidMoza/psi/main/New_cars_price.csv', index_col=0)"
      ]
    },
    {
      "cell_type": "markdown",
      "source": [
        "Pierwsza kolumna zawiera nazwy modeli, usuńmy ją i zamiast niej używajmy indeksów\n",
        "\n",
        "Przeanalizujmy dostępne kolumny i wybierzmy te które mają jakiekolwiek powiązanie z typem nadwozia, kolumną docelową będzie oczywiście \"Body Style\"\n",
        "\n",
        "Pozostawny wyłącznie te, które jakkolwiek odnoszą się do konstrukcji nadwozia i podwozia, są to:\n",
        "\n",
        "- Drivetrain\n",
        "- Passenger Capacity\n",
        "- Passenger Doors\n",
        "- Base Curb Weight (lbs)\n",
        "- Passenger Volume (ft³)\n",
        "- Wheelbase (in)\n",
        "- Track Width, Front (in)\n",
        "- Height, Overall (in)\n",
        "- Turning Diameter - Curb to Curb (ft)\n",
        "- Front Tire Size\n",
        "\n",
        "Uprośćmy również ich nazwy i usuńmy wiersze z brakującymi danymi."
      ],
      "metadata": {
        "id": "cVLMz1_D3lGW"
      }
    },
    {
      "cell_type": "code",
      "source": [
        "df.insert(0, \"\", range(len(df.index)), True)\n",
        "df.set_index(\"\", inplace=True)\n",
        "\n",
        "df = df[[\"Drivetrain\", \"Passenger Capacity\", \"Passenger Doors\", \"Base Curb Weight (lbs)\",\n",
        "         \"Passenger Volume (ft³)\", \"Wheelbase (in)\", \"Track Width, Front (in)\", \"Height, Overall (in)\",\n",
        "          \"Turning Diameter - Curb to Curb (ft)\", \"Front Tire Size\", \"Body Style\"]]\n",
        "df.columns = ['Drivetrain', 'Passenger Capacity', 'Passenger Doors', 'Weight', 'Passenger Volume',\n",
        "              'Wheelbase', 'Track Width', 'Height', 'Turning Diameter', 'Front Tire Size', 'Body Style']\n",
        "\n",
        "df.dropna(inplace=True)\n",
        "\n",
        "df.head()"
      ],
      "metadata": {
        "id": "ztQmhoNP3-03",
        "colab": {
          "base_uri": "https://localhost:8080/",
          "height": 220
        },
        "outputId": "7c29977e-5bf3-44f5-a439-c3991131cdea"
      },
      "execution_count": 195,
      "outputs": [
        {
          "output_type": "execute_result",
          "data": {
            "text/plain": [
              "          Drivetrain  Passenger Capacity  Passenger Doors Weight  \\\n",
              "                                                                   \n",
              "0  Front Wheel Drive                   5                4   3790   \n",
              "1  Front Wheel Drive                   5                4   3829   \n",
              "2  Front Wheel Drive                   5                4   3821   \n",
              "3  Front Wheel Drive                   5                4   3783   \n",
              "4    All Wheel Drive                   5                4   4026   \n",
              "\n",
              "   Passenger Volume  Wheelbase  Track Width Height Turning Diameter  \\\n",
              "                                                                      \n",
              "0             104.0      108.3         64.2   65.7               39   \n",
              "1             104.0      108.3         64.2   65.7               39   \n",
              "2             104.0      108.3         64.2   65.7               39   \n",
              "3             104.0      108.3         64.2   65.7               39   \n",
              "4             104.0      108.3         64.2   65.7               39   \n",
              "\n",
              "  Front Tire Size     Body Style  \n",
              "                                  \n",
              "0     P235/55HR19  Sport Utility  \n",
              "1     P235/55HR19  Sport Utility  \n",
              "2     P255/45VR20  Sport Utility  \n",
              "3     P235/55HR19  Sport Utility  \n",
              "4     P235/55HR19  Sport Utility  "
            ],
            "text/html": [
              "\n",
              "  <div id=\"df-11807e03-bd57-4aed-91ea-013dda101926\">\n",
              "    <div class=\"colab-df-container\">\n",
              "      <div>\n",
              "<style scoped>\n",
              "    .dataframe tbody tr th:only-of-type {\n",
              "        vertical-align: middle;\n",
              "    }\n",
              "\n",
              "    .dataframe tbody tr th {\n",
              "        vertical-align: top;\n",
              "    }\n",
              "\n",
              "    .dataframe thead th {\n",
              "        text-align: right;\n",
              "    }\n",
              "</style>\n",
              "<table border=\"1\" class=\"dataframe\">\n",
              "  <thead>\n",
              "    <tr style=\"text-align: right;\">\n",
              "      <th></th>\n",
              "      <th>Drivetrain</th>\n",
              "      <th>Passenger Capacity</th>\n",
              "      <th>Passenger Doors</th>\n",
              "      <th>Weight</th>\n",
              "      <th>Passenger Volume</th>\n",
              "      <th>Wheelbase</th>\n",
              "      <th>Track Width</th>\n",
              "      <th>Height</th>\n",
              "      <th>Turning Diameter</th>\n",
              "      <th>Front Tire Size</th>\n",
              "      <th>Body Style</th>\n",
              "    </tr>\n",
              "    <tr>\n",
              "      <th></th>\n",
              "      <th></th>\n",
              "      <th></th>\n",
              "      <th></th>\n",
              "      <th></th>\n",
              "      <th></th>\n",
              "      <th></th>\n",
              "      <th></th>\n",
              "      <th></th>\n",
              "      <th></th>\n",
              "      <th></th>\n",
              "      <th></th>\n",
              "    </tr>\n",
              "  </thead>\n",
              "  <tbody>\n",
              "    <tr>\n",
              "      <th>0</th>\n",
              "      <td>Front Wheel Drive</td>\n",
              "      <td>5</td>\n",
              "      <td>4</td>\n",
              "      <td>3790</td>\n",
              "      <td>104.0</td>\n",
              "      <td>108.3</td>\n",
              "      <td>64.2</td>\n",
              "      <td>65.7</td>\n",
              "      <td>39</td>\n",
              "      <td>P235/55HR19</td>\n",
              "      <td>Sport Utility</td>\n",
              "    </tr>\n",
              "    <tr>\n",
              "      <th>1</th>\n",
              "      <td>Front Wheel Drive</td>\n",
              "      <td>5</td>\n",
              "      <td>4</td>\n",
              "      <td>3829</td>\n",
              "      <td>104.0</td>\n",
              "      <td>108.3</td>\n",
              "      <td>64.2</td>\n",
              "      <td>65.7</td>\n",
              "      <td>39</td>\n",
              "      <td>P235/55HR19</td>\n",
              "      <td>Sport Utility</td>\n",
              "    </tr>\n",
              "    <tr>\n",
              "      <th>2</th>\n",
              "      <td>Front Wheel Drive</td>\n",
              "      <td>5</td>\n",
              "      <td>4</td>\n",
              "      <td>3821</td>\n",
              "      <td>104.0</td>\n",
              "      <td>108.3</td>\n",
              "      <td>64.2</td>\n",
              "      <td>65.7</td>\n",
              "      <td>39</td>\n",
              "      <td>P255/45VR20</td>\n",
              "      <td>Sport Utility</td>\n",
              "    </tr>\n",
              "    <tr>\n",
              "      <th>3</th>\n",
              "      <td>Front Wheel Drive</td>\n",
              "      <td>5</td>\n",
              "      <td>4</td>\n",
              "      <td>3783</td>\n",
              "      <td>104.0</td>\n",
              "      <td>108.3</td>\n",
              "      <td>64.2</td>\n",
              "      <td>65.7</td>\n",
              "      <td>39</td>\n",
              "      <td>P235/55HR19</td>\n",
              "      <td>Sport Utility</td>\n",
              "    </tr>\n",
              "    <tr>\n",
              "      <th>4</th>\n",
              "      <td>All Wheel Drive</td>\n",
              "      <td>5</td>\n",
              "      <td>4</td>\n",
              "      <td>4026</td>\n",
              "      <td>104.0</td>\n",
              "      <td>108.3</td>\n",
              "      <td>64.2</td>\n",
              "      <td>65.7</td>\n",
              "      <td>39</td>\n",
              "      <td>P235/55HR19</td>\n",
              "      <td>Sport Utility</td>\n",
              "    </tr>\n",
              "  </tbody>\n",
              "</table>\n",
              "</div>\n",
              "      <button class=\"colab-df-convert\" onclick=\"convertToInteractive('df-11807e03-bd57-4aed-91ea-013dda101926')\"\n",
              "              title=\"Convert this dataframe to an interactive table.\"\n",
              "              style=\"display:none;\">\n",
              "        \n",
              "  <svg xmlns=\"http://www.w3.org/2000/svg\" height=\"24px\"viewBox=\"0 0 24 24\"\n",
              "       width=\"24px\">\n",
              "    <path d=\"M0 0h24v24H0V0z\" fill=\"none\"/>\n",
              "    <path d=\"M18.56 5.44l.94 2.06.94-2.06 2.06-.94-2.06-.94-.94-2.06-.94 2.06-2.06.94zm-11 1L8.5 8.5l.94-2.06 2.06-.94-2.06-.94L8.5 2.5l-.94 2.06-2.06.94zm10 10l.94 2.06.94-2.06 2.06-.94-2.06-.94-.94-2.06-.94 2.06-2.06.94z\"/><path d=\"M17.41 7.96l-1.37-1.37c-.4-.4-.92-.59-1.43-.59-.52 0-1.04.2-1.43.59L10.3 9.45l-7.72 7.72c-.78.78-.78 2.05 0 2.83L4 21.41c.39.39.9.59 1.41.59.51 0 1.02-.2 1.41-.59l7.78-7.78 2.81-2.81c.8-.78.8-2.07 0-2.86zM5.41 20L4 18.59l7.72-7.72 1.47 1.35L5.41 20z\"/>\n",
              "  </svg>\n",
              "      </button>\n",
              "      \n",
              "  <style>\n",
              "    .colab-df-container {\n",
              "      display:flex;\n",
              "      flex-wrap:wrap;\n",
              "      gap: 12px;\n",
              "    }\n",
              "\n",
              "    .colab-df-convert {\n",
              "      background-color: #E8F0FE;\n",
              "      border: none;\n",
              "      border-radius: 50%;\n",
              "      cursor: pointer;\n",
              "      display: none;\n",
              "      fill: #1967D2;\n",
              "      height: 32px;\n",
              "      padding: 0 0 0 0;\n",
              "      width: 32px;\n",
              "    }\n",
              "\n",
              "    .colab-df-convert:hover {\n",
              "      background-color: #E2EBFA;\n",
              "      box-shadow: 0px 1px 2px rgba(60, 64, 67, 0.3), 0px 1px 3px 1px rgba(60, 64, 67, 0.15);\n",
              "      fill: #174EA6;\n",
              "    }\n",
              "\n",
              "    [theme=dark] .colab-df-convert {\n",
              "      background-color: #3B4455;\n",
              "      fill: #D2E3FC;\n",
              "    }\n",
              "\n",
              "    [theme=dark] .colab-df-convert:hover {\n",
              "      background-color: #434B5C;\n",
              "      box-shadow: 0px 1px 3px 1px rgba(0, 0, 0, 0.15);\n",
              "      filter: drop-shadow(0px 1px 2px rgba(0, 0, 0, 0.3));\n",
              "      fill: #FFFFFF;\n",
              "    }\n",
              "  </style>\n",
              "\n",
              "      <script>\n",
              "        const buttonEl =\n",
              "          document.querySelector('#df-11807e03-bd57-4aed-91ea-013dda101926 button.colab-df-convert');\n",
              "        buttonEl.style.display =\n",
              "          google.colab.kernel.accessAllowed ? 'block' : 'none';\n",
              "\n",
              "        async function convertToInteractive(key) {\n",
              "          const element = document.querySelector('#df-11807e03-bd57-4aed-91ea-013dda101926');\n",
              "          const dataTable =\n",
              "            await google.colab.kernel.invokeFunction('convertToInteractive',\n",
              "                                                     [key], {});\n",
              "          if (!dataTable) return;\n",
              "\n",
              "          const docLinkHtml = 'Like what you see? Visit the ' +\n",
              "            '<a target=\"_blank\" href=https://colab.research.google.com/notebooks/data_table.ipynb>data table notebook</a>'\n",
              "            + ' to learn more about interactive tables.';\n",
              "          element.innerHTML = '';\n",
              "          dataTable['output_type'] = 'display_data';\n",
              "          await google.colab.output.renderOutput(dataTable, element);\n",
              "          const docLink = document.createElement('div');\n",
              "          docLink.innerHTML = docLinkHtml;\n",
              "          element.appendChild(docLink);\n",
              "        }\n",
              "      </script>\n",
              "    </div>\n",
              "  </div>\n",
              "  "
            ]
          },
          "metadata": {},
          "execution_count": 195
        }
      ]
    },
    {
      "cell_type": "markdown",
      "source": [
        "Kolumna Front Tire Size zawiera dane, które nie są w formacie liczbowym, musimy je przekształcić. Najpierw sprawdźmy, czy wszystkie dane w tej kolumnie są prawidłowe, a następnie podzielmy ją na 3 inne kolumny, opisujące szerokość opony, jej profil, a także wielkość felgi.\n",
        "\n",
        "Niektóre komórki zawierają dodatkowe oznaczenia, które należy w pierwszej kolejności usunąć."
      ],
      "metadata": {
        "id": "6lmAf4B17emp"
      }
    },
    {
      "cell_type": "code",
      "source": [
        "df.loc[~df[\"Front Tire Size\"].str[0].str.isdigit(), \"Front Tire Size\"] = df.loc[~df[\"Front Tire Size\"].str[0].str.isdigit(), \"Front Tire Size\"].str[1:]\n",
        "df.loc[df[\"Front Tire Size\"].str.len() == 10, \"Front Tire Size\"] = df.loc[df[\"Front Tire Size\"].str.len() == 10, \"Front Tire Size\"].str[:6] + df.loc[df[\"Front Tire Size\"].str.len() == 10, \"Front Tire Size\"].str[7:]\n",
        "df.drop(df[df[\"Front Tire Size\"].str.len() != 9].index, inplace=True)\n",
        "\n",
        "tiresWidth = df[\"Front Tire Size\"].str[:3]\n",
        "tiresProfile = df[\"Front Tire Size\"].str[4:6]\n",
        "rimSize = df[\"Front Tire Size\"].str[7:9]\n",
        "\n",
        "df.insert(10, \"Tire Width\", tiresWidth, True)\n",
        "df.insert(11, \"Tire Profile\", tiresProfile, True)\n",
        "df.insert(12, \"Rim Size\", rimSize, True)\n",
        "\n",
        "df.drop(\"Front Tire Size\", axis=1, inplace=True)\n",
        "\n",
        "df.head()"
      ],
      "metadata": {
        "id": "jYSiyg0u9P-l",
        "colab": {
          "base_uri": "https://localhost:8080/",
          "height": 220
        },
        "outputId": "6a657bb0-679e-4711-c745-075928ddbdfb"
      },
      "execution_count": 196,
      "outputs": [
        {
          "output_type": "execute_result",
          "data": {
            "text/plain": [
              "          Drivetrain  Passenger Capacity  Passenger Doors Weight  \\\n",
              "                                                                   \n",
              "0  Front Wheel Drive                   5                4   3790   \n",
              "1  Front Wheel Drive                   5                4   3829   \n",
              "2  Front Wheel Drive                   5                4   3821   \n",
              "3  Front Wheel Drive                   5                4   3783   \n",
              "4    All Wheel Drive                   5                4   4026   \n",
              "\n",
              "   Passenger Volume  Wheelbase  Track Width Height Turning Diameter  \\\n",
              "                                                                      \n",
              "0             104.0      108.3         64.2   65.7               39   \n",
              "1             104.0      108.3         64.2   65.7               39   \n",
              "2             104.0      108.3         64.2   65.7               39   \n",
              "3             104.0      108.3         64.2   65.7               39   \n",
              "4             104.0      108.3         64.2   65.7               39   \n",
              "\n",
              "  Tire Width Tire Profile Rim Size     Body Style  \n",
              "                                                   \n",
              "0        235           55       19  Sport Utility  \n",
              "1        235           55       19  Sport Utility  \n",
              "2        255           45       20  Sport Utility  \n",
              "3        235           55       19  Sport Utility  \n",
              "4        235           55       19  Sport Utility  "
            ],
            "text/html": [
              "\n",
              "  <div id=\"df-bf19c37d-0f62-43b8-b737-25db0d726ba3\">\n",
              "    <div class=\"colab-df-container\">\n",
              "      <div>\n",
              "<style scoped>\n",
              "    .dataframe tbody tr th:only-of-type {\n",
              "        vertical-align: middle;\n",
              "    }\n",
              "\n",
              "    .dataframe tbody tr th {\n",
              "        vertical-align: top;\n",
              "    }\n",
              "\n",
              "    .dataframe thead th {\n",
              "        text-align: right;\n",
              "    }\n",
              "</style>\n",
              "<table border=\"1\" class=\"dataframe\">\n",
              "  <thead>\n",
              "    <tr style=\"text-align: right;\">\n",
              "      <th></th>\n",
              "      <th>Drivetrain</th>\n",
              "      <th>Passenger Capacity</th>\n",
              "      <th>Passenger Doors</th>\n",
              "      <th>Weight</th>\n",
              "      <th>Passenger Volume</th>\n",
              "      <th>Wheelbase</th>\n",
              "      <th>Track Width</th>\n",
              "      <th>Height</th>\n",
              "      <th>Turning Diameter</th>\n",
              "      <th>Tire Width</th>\n",
              "      <th>Tire Profile</th>\n",
              "      <th>Rim Size</th>\n",
              "      <th>Body Style</th>\n",
              "    </tr>\n",
              "    <tr>\n",
              "      <th></th>\n",
              "      <th></th>\n",
              "      <th></th>\n",
              "      <th></th>\n",
              "      <th></th>\n",
              "      <th></th>\n",
              "      <th></th>\n",
              "      <th></th>\n",
              "      <th></th>\n",
              "      <th></th>\n",
              "      <th></th>\n",
              "      <th></th>\n",
              "      <th></th>\n",
              "      <th></th>\n",
              "    </tr>\n",
              "  </thead>\n",
              "  <tbody>\n",
              "    <tr>\n",
              "      <th>0</th>\n",
              "      <td>Front Wheel Drive</td>\n",
              "      <td>5</td>\n",
              "      <td>4</td>\n",
              "      <td>3790</td>\n",
              "      <td>104.0</td>\n",
              "      <td>108.3</td>\n",
              "      <td>64.2</td>\n",
              "      <td>65.7</td>\n",
              "      <td>39</td>\n",
              "      <td>235</td>\n",
              "      <td>55</td>\n",
              "      <td>19</td>\n",
              "      <td>Sport Utility</td>\n",
              "    </tr>\n",
              "    <tr>\n",
              "      <th>1</th>\n",
              "      <td>Front Wheel Drive</td>\n",
              "      <td>5</td>\n",
              "      <td>4</td>\n",
              "      <td>3829</td>\n",
              "      <td>104.0</td>\n",
              "      <td>108.3</td>\n",
              "      <td>64.2</td>\n",
              "      <td>65.7</td>\n",
              "      <td>39</td>\n",
              "      <td>235</td>\n",
              "      <td>55</td>\n",
              "      <td>19</td>\n",
              "      <td>Sport Utility</td>\n",
              "    </tr>\n",
              "    <tr>\n",
              "      <th>2</th>\n",
              "      <td>Front Wheel Drive</td>\n",
              "      <td>5</td>\n",
              "      <td>4</td>\n",
              "      <td>3821</td>\n",
              "      <td>104.0</td>\n",
              "      <td>108.3</td>\n",
              "      <td>64.2</td>\n",
              "      <td>65.7</td>\n",
              "      <td>39</td>\n",
              "      <td>255</td>\n",
              "      <td>45</td>\n",
              "      <td>20</td>\n",
              "      <td>Sport Utility</td>\n",
              "    </tr>\n",
              "    <tr>\n",
              "      <th>3</th>\n",
              "      <td>Front Wheel Drive</td>\n",
              "      <td>5</td>\n",
              "      <td>4</td>\n",
              "      <td>3783</td>\n",
              "      <td>104.0</td>\n",
              "      <td>108.3</td>\n",
              "      <td>64.2</td>\n",
              "      <td>65.7</td>\n",
              "      <td>39</td>\n",
              "      <td>235</td>\n",
              "      <td>55</td>\n",
              "      <td>19</td>\n",
              "      <td>Sport Utility</td>\n",
              "    </tr>\n",
              "    <tr>\n",
              "      <th>4</th>\n",
              "      <td>All Wheel Drive</td>\n",
              "      <td>5</td>\n",
              "      <td>4</td>\n",
              "      <td>4026</td>\n",
              "      <td>104.0</td>\n",
              "      <td>108.3</td>\n",
              "      <td>64.2</td>\n",
              "      <td>65.7</td>\n",
              "      <td>39</td>\n",
              "      <td>235</td>\n",
              "      <td>55</td>\n",
              "      <td>19</td>\n",
              "      <td>Sport Utility</td>\n",
              "    </tr>\n",
              "  </tbody>\n",
              "</table>\n",
              "</div>\n",
              "      <button class=\"colab-df-convert\" onclick=\"convertToInteractive('df-bf19c37d-0f62-43b8-b737-25db0d726ba3')\"\n",
              "              title=\"Convert this dataframe to an interactive table.\"\n",
              "              style=\"display:none;\">\n",
              "        \n",
              "  <svg xmlns=\"http://www.w3.org/2000/svg\" height=\"24px\"viewBox=\"0 0 24 24\"\n",
              "       width=\"24px\">\n",
              "    <path d=\"M0 0h24v24H0V0z\" fill=\"none\"/>\n",
              "    <path d=\"M18.56 5.44l.94 2.06.94-2.06 2.06-.94-2.06-.94-.94-2.06-.94 2.06-2.06.94zm-11 1L8.5 8.5l.94-2.06 2.06-.94-2.06-.94L8.5 2.5l-.94 2.06-2.06.94zm10 10l.94 2.06.94-2.06 2.06-.94-2.06-.94-.94-2.06-.94 2.06-2.06.94z\"/><path d=\"M17.41 7.96l-1.37-1.37c-.4-.4-.92-.59-1.43-.59-.52 0-1.04.2-1.43.59L10.3 9.45l-7.72 7.72c-.78.78-.78 2.05 0 2.83L4 21.41c.39.39.9.59 1.41.59.51 0 1.02-.2 1.41-.59l7.78-7.78 2.81-2.81c.8-.78.8-2.07 0-2.86zM5.41 20L4 18.59l7.72-7.72 1.47 1.35L5.41 20z\"/>\n",
              "  </svg>\n",
              "      </button>\n",
              "      \n",
              "  <style>\n",
              "    .colab-df-container {\n",
              "      display:flex;\n",
              "      flex-wrap:wrap;\n",
              "      gap: 12px;\n",
              "    }\n",
              "\n",
              "    .colab-df-convert {\n",
              "      background-color: #E8F0FE;\n",
              "      border: none;\n",
              "      border-radius: 50%;\n",
              "      cursor: pointer;\n",
              "      display: none;\n",
              "      fill: #1967D2;\n",
              "      height: 32px;\n",
              "      padding: 0 0 0 0;\n",
              "      width: 32px;\n",
              "    }\n",
              "\n",
              "    .colab-df-convert:hover {\n",
              "      background-color: #E2EBFA;\n",
              "      box-shadow: 0px 1px 2px rgba(60, 64, 67, 0.3), 0px 1px 3px 1px rgba(60, 64, 67, 0.15);\n",
              "      fill: #174EA6;\n",
              "    }\n",
              "\n",
              "    [theme=dark] .colab-df-convert {\n",
              "      background-color: #3B4455;\n",
              "      fill: #D2E3FC;\n",
              "    }\n",
              "\n",
              "    [theme=dark] .colab-df-convert:hover {\n",
              "      background-color: #434B5C;\n",
              "      box-shadow: 0px 1px 3px 1px rgba(0, 0, 0, 0.15);\n",
              "      filter: drop-shadow(0px 1px 2px rgba(0, 0, 0, 0.3));\n",
              "      fill: #FFFFFF;\n",
              "    }\n",
              "  </style>\n",
              "\n",
              "      <script>\n",
              "        const buttonEl =\n",
              "          document.querySelector('#df-bf19c37d-0f62-43b8-b737-25db0d726ba3 button.colab-df-convert');\n",
              "        buttonEl.style.display =\n",
              "          google.colab.kernel.accessAllowed ? 'block' : 'none';\n",
              "\n",
              "        async function convertToInteractive(key) {\n",
              "          const element = document.querySelector('#df-bf19c37d-0f62-43b8-b737-25db0d726ba3');\n",
              "          const dataTable =\n",
              "            await google.colab.kernel.invokeFunction('convertToInteractive',\n",
              "                                                     [key], {});\n",
              "          if (!dataTable) return;\n",
              "\n",
              "          const docLinkHtml = 'Like what you see? Visit the ' +\n",
              "            '<a target=\"_blank\" href=https://colab.research.google.com/notebooks/data_table.ipynb>data table notebook</a>'\n",
              "            + ' to learn more about interactive tables.';\n",
              "          element.innerHTML = '';\n",
              "          dataTable['output_type'] = 'display_data';\n",
              "          await google.colab.output.renderOutput(dataTable, element);\n",
              "          const docLink = document.createElement('div');\n",
              "          docLink.innerHTML = docLinkHtml;\n",
              "          element.appendChild(docLink);\n",
              "        }\n",
              "      </script>\n",
              "    </div>\n",
              "  </div>\n",
              "  "
            ]
          },
          "metadata": {},
          "execution_count": 196
        }
      ]
    },
    {
      "cell_type": "markdown",
      "source": [
        "Przeanalizujmy czy wartości pozostałe w kolumnach są na pewno prawidłowe, w tym celu wypiszmy wszytskie wartości unikalne w poszukiwaniu dziwnych, odstających danych.\n",
        "  \n",
        "Drivetrain\n",
        "\n",
        "  - rodzaje napędu zapisane są w różne sposoby\n",
        "  - '2-Wheel Drive' oraz '2 Wheel Drive' nie wskazują które koła są napędzane, zbyt ogólne dane"
      ],
      "metadata": {
        "id": "CkZ6KJ2ASGsm"
      }
    },
    {
      "cell_type": "code",
      "source": [
        "print(df[\"Drivetrain\"].unique())\n",
        "\n",
        "df[\"Drivetrain\"].replace(\"Front Wheel Drive\", \"0\", inplace=True)\n",
        "df[\"Drivetrain\"].replace(\"All Wheel Drive\", \"3\", inplace=True)\n",
        "df[\"Drivetrain\"].replace(\"4 Wheel Drive\", \"2\", inplace=True)\n",
        "df[\"Drivetrain\"].replace(\"Rear Wheel Drive\", \"1\", inplace=True)\n",
        "df[\"Drivetrain\"].replace(\"All-Wheel Drive\", \"3\", inplace=True)\n",
        "df[\"Drivetrain\"].replace(\"Front-Wheel Drive\", \"0\", inplace=True)\n",
        "df[\"Drivetrain\"].replace(\"All wheel drive\", \"3\", inplace=True)\n",
        "df[\"Drivetrain\"].replace(\"All-wheel drive\", \"3\", inplace=True)\n",
        "df[\"Drivetrain\"].replace(\"AWD\", \"3\", inplace=True)\n",
        "df[\"Drivetrain\"].replace(\"4-Wheel Drive\", \"2\", inplace=True)\n",
        "df[\"Drivetrain\"].replace(\"Rear wheel drive\", \"1\", inplace=True)\n",
        "df[\"Drivetrain\"].replace(\"Front wheel drive\", \"0\", inplace=True)\n",
        "df[\"Drivetrain\"].replace(\"Four Wheel Drive\", \"2\", inplace=True)\n",
        "df[\"Drivetrain\"].replace(\"Front-wheel drive\", \"0\", inplace=True)\n",
        "df[\"Drivetrain\"].replace(\"Four wheel drive\", \"2\", inplace=True)\n",
        "#df[\"Drivetrain\"].replace(\"2-Wheel Drive\", \"0\", inplace=True)\n",
        "#df[\"Drivetrain\"].replace(\"2 Wheel Drive\", \"0\", inplace=True)\n",
        "df[\"Drivetrain\"].replace(\"Four-Wheel Drive\", \"2\", inplace=True)\n",
        "df[\"Drivetrain\"].replace(\"Rear-Wheel Drive\", \"1\", inplace=True)\n",
        "\n",
        "df.drop(df[df[\"Drivetrain\"] == \"2-Wheel Drive\"].index, inplace=True)\n",
        "df.drop(df[df[\"Drivetrain\"] == \"2 Wheel Drive\"].index, inplace=True)\n",
        "\n",
        "df['Drivetrain'] = pd.to_numeric(df['Drivetrain'])\n",
        "\n",
        "print(df[\"Drivetrain\"].unique())"
      ],
      "metadata": {
        "id": "lkYFjizLUJXD",
        "colab": {
          "base_uri": "https://localhost:8080/"
        },
        "outputId": "dceaaffe-3a9e-4049-d966-b1dc7bab006c"
      },
      "execution_count": 197,
      "outputs": [
        {
          "output_type": "stream",
          "name": "stdout",
          "text": [
            "['Front Wheel Drive' 'All Wheel Drive' '4 Wheel Drive' 'Rear Wheel Drive'\n",
            " 'All-Wheel Drive' 'Front-Wheel Drive' 'All wheel drive' 'All-wheel drive'\n",
            " 'AWD' '4-Wheel Drive' 'Rear wheel drive' 'Front wheel drive'\n",
            " 'Four Wheel Drive' 'Front-wheel drive' 'Four wheel drive' '2-Wheel Drive'\n",
            " '2 Wheel Drive' 'Four-Wheel Drive' 'Rear-Wheel Drive']\n",
            "[0 3 2 1]\n"
          ]
        }
      ]
    },
    {
      "cell_type": "markdown",
      "source": [
        "Passenger Capacity\n",
        "- samochody mogące pomieścić tylko 1 pasażera"
      ],
      "metadata": {
        "id": "_tC9dtEBUJzf"
      }
    },
    {
      "cell_type": "code",
      "source": [
        "print(df[\"Passenger Capacity\"].unique())\n",
        "\n",
        "print(len(df.loc[df[\"Passenger Capacity\"] == 1]))\n",
        "\n",
        "#jest tylko 1 taki rekord\n",
        "\n",
        "df.drop(df[df[\"Passenger Capacity\"] == 1].index, inplace=True)\n",
        "\n",
        "print(df[\"Passenger Capacity\"].unique())"
      ],
      "metadata": {
        "id": "uW2qR6d1UKf7",
        "colab": {
          "base_uri": "https://localhost:8080/"
        },
        "outputId": "f5dec888-91b4-47b8-c7ca-ed31e0393a85"
      },
      "execution_count": 198,
      "outputs": [
        {
          "output_type": "stream",
          "name": "stdout",
          "text": [
            "[5 7 6 2 4 8 1]\n",
            "1\n",
            "[5 7 6 2 4 8]\n"
          ]
        }
      ]
    },
    {
      "cell_type": "markdown",
      "source": [
        "Passenger Doors\n",
        "- dane wyglądają prawidłowo"
      ],
      "metadata": {
        "id": "uIITgB10UK6s"
      }
    },
    {
      "cell_type": "code",
      "source": [
        "print(df[\"Passenger Doors\"].unique())"
      ],
      "metadata": {
        "id": "IE-QjWFhULM0",
        "colab": {
          "base_uri": "https://localhost:8080/"
        },
        "outputId": "dc032e31-ae13-4c6c-ec80-2e0ec4628ad6"
      },
      "execution_count": 199,
      "outputs": [
        {
          "output_type": "stream",
          "name": "stdout",
          "text": [
            "[4 2 3]\n"
          ]
        }
      ]
    },
    {
      "cell_type": "markdown",
      "source": [
        "Weight\n",
        "- zły format danych"
      ],
      "metadata": {
        "id": "PeyJzHNWULcJ"
      }
    },
    {
      "cell_type": "code",
      "source": [
        "print(df[\"Weight\"].unique())\n",
        "\n",
        "df.drop(df[~df[\"Weight\"].str.isnumeric()].index, inplace=True)\n",
        "\n",
        "df['Weight'] = pd.to_numeric(df['Weight'])\n",
        "\n",
        "print(df[\"Weight\"].unique())"
      ],
      "metadata": {
        "id": "Y07o-iDvUSum",
        "colab": {
          "base_uri": "https://localhost:8080/"
        },
        "outputId": "1f0d709b-9371-4a7d-af4d-3a4ee3e7d342"
      },
      "execution_count": 200,
      "outputs": [
        {
          "output_type": "stream",
          "name": "stdout",
          "text": [
            "['3790' '3829' '3821' ... '4394' '4753' '4791']\n",
            "[3790 3829 3821 ... 4394 4753 4791]\n"
          ]
        }
      ]
    },
    {
      "cell_type": "markdown",
      "source": [
        "Height\n",
        "- zły format danych wysokości"
      ],
      "metadata": {
        "id": "yfKVMyuwUTpk"
      }
    },
    {
      "cell_type": "code",
      "source": [
        "print(df[\"Height\"].unique())\n",
        "\n",
        "df['Height'] = pd.to_numeric(df['Height'])\n",
        "\n",
        "print(df[\"Height\"].unique())"
      ],
      "metadata": {
        "id": "nw7R11VDUT9T",
        "colab": {
          "base_uri": "https://localhost:8080/"
        },
        "outputId": "b248d476-7a3f-404e-8f1e-7d7daf8a6248"
      },
      "execution_count": 201,
      "outputs": [
        {
          "output_type": "stream",
          "name": "stdout",
          "text": [
            "['65.7' '65.0' '66.1' '65.2' '65.1' '67.4' '67.6' '68.2' '65.9' '68.7'\n",
            " '71.3' '57.0' '55.6' '47.8' '46.1' '57.7' '56.5' '57.1' '56.1' '57.8'\n",
            " '57.800' '58.2' '57.4' '57.5' '57.2' '58.4' '55.900' '55.9' '55.4'\n",
            " '55.400' '56.2' '54.8' '55.7' '54.9' '55.8' '68.4' '56.200' '56.7' '56.8'\n",
            " '54.4' '54.0' '54.400' '54.000' '53.8' '56.000' '56.0' '65.3' '53.2'\n",
            " '53.1' '53.5' '53.0' '57.9' '57.3' '53' '55.3' '55.1' '54.7' '55.2'\n",
            " '55.0' '58.6' '54.500' '54.900' '54.100' '54.5' '54.1' '54' '55.5' '56.3'\n",
            " '53.9' '53.7' '54.6' '53.4' '52.6' '52.8' '50.9' '50.7' '69.900' '69.9'\n",
            " '69.5' '67.5' '67.2' '67.8' '66.0' '65.4' '50.8' '57.637' '61.4' '58.3'\n",
            " '58.7' '58.0' '56.6' '62.9' '63.5' '63.8' '49.9' '51.3' '51.1' '50.1'\n",
            " '66.3' '66.5' '58.5' '58.1' '60.6' '53.700' '53.900' '54.2' '60.1'\n",
            " '65.25' '65.26' '65.20' '70.3' '72.5' '72.2' '57.50' '59.2' '66.8'\n",
            " '64.06' '74.3' '75.0' '55.90' '59.4' '59.10' '59.45' '57.20' '56.00'\n",
            " '58.00' '59.1' '57.30' '54.80' '55.30' '56.4' '54.50' '55.70' '48.7'\n",
            " '48.8' '48.9' '48.5' '48.6' '48.80' '49.1' '49.0' '47.7' '47.3' '46.3'\n",
            " '52.9' '51.8' '51.2' '52.0' '56.64' '65.40' '69.3' '70.4' '57.6' '58.10'\n",
            " '58.76' '62.60' '61.00' '62.8' '58.90' '58.70' '64.9' '59.70' '59.30'\n",
            " '59.7' '59.3' '68.3' '58.9' '71.6' '70.9' '72.6' '70.5' '73.2' '58.200'\n",
            " '66.6' '67.9' '68.9' '63.1' '59.8' '64.7' '66.2' '53.3' '70.6' '69.8'\n",
            " '70.7' '71.1' '72.4' '72.7' '71.0' '71.7' '70.1' '69.6' '70.0' '68.8'\n",
            " '69.7' '68.5' '64.6' '68.6' '63.2' '60.0' '71.2' '56.9' '67.1' '64.8'\n",
            " '68.1' '58.8' 58.0 56.0 55.5 55.3 61.0 57.1 57.9 54.9 56.9 57.7 61.2 66.0\n",
            " 62.7 61.9 68.6 68.8 57.2 56.8 59.6 59.1 54.5 55.1 54.8 60.2 58.1 58.9\n",
            " 59.7 59.5 56.1 55.7 57.5 57.3 57.0 53.2 52.7 53.1 53.5 66.2 65.7 67.8\n",
            " 67.3 63.8 66.8 66.7 64.0 63.9 69.3 67.9 67.6 69.1 69.4 68.9 67.4 68.7\n",
            " 67.7 70.3 64.9 70.9 70.8 71.2 69.8 72.1 69.6 71.1 70.2 68.0 64.8 64.6\n",
            " 65.0 65.2 64.2 66.5 66.3 66.9 71.3 68.1 64.4 57.28 58.3 60.4 56.3 56.5\n",
            " 63.5 63.0 63.4 57.08 56.7 58.5 68.5 69.9 44.7 60.6 54.3 54.7 74.2 73.8\n",
            " 72.6 72.2 74.6 73.0 75.6 72.8 58.7 55.9 53.0 67.5 58.2 78.3 77.8 76.7\n",
            " 76.6 75.2 78.1 48.1 66.1 53.3 52.9 56.6 48.3 48.0 48.4 48.2 60.9 60.7\n",
            " 65.3 65.4 69.0 76.0 72.3 54.6 55.6 55.4 55.2 55.8 55.75 55.35 51.2 51.8\n",
            " 51.1 51.0 51.3 59.3 58.4 56.2 61.5 59.4 52.4 51.4 52.6 63.2 59.2 61.4\n",
            " 61.6 57.8 55.0 78.7 69.5 72.7 72.0 72.5 72.9 73.3 72.4 67.1 66.6 67.0\n",
            " 62.4 52.2 51.9 60.5 59.0 53.7 54.1 63.3 62.5 53.9 74.5 73.7 52.1 50.2\n",
            " 51.6 74.0 62.9 61.7 62.2 64.5 64.3 60.71 60.3 68.2 66.4 65.9 62.6 62.8\n",
            " 63.6 65.8 60.0 52.0 50.6 56.4 67.2 65.5 70.1 71.5 57.6 68.3 70.7 70.5\n",
            " 71.6 73.6 76.2 73.2 75.8 57.4 58.6 60.8]\n",
            "[65.7   65.    66.1   65.2   65.1   67.4   67.6   68.2   65.9   68.7\n",
            " 71.3   57.    55.6   47.8   46.1   57.7   56.5   57.1   56.1   57.8\n",
            " 58.2   57.4   57.5   57.2   58.4   55.9   55.4   56.2   54.8   55.7\n",
            " 54.9   55.8   68.4   56.7   56.8   54.4   54.    53.8   56.    65.3\n",
            " 53.2   53.1   53.5   53.    57.9   57.3   55.3   55.1   54.7   55.2\n",
            " 55.    58.6   54.5   54.1   55.5   56.3   53.9   53.7   54.6   53.4\n",
            " 52.6   52.8   50.9   50.7   69.9   69.5   67.5   67.2   67.8   66.\n",
            " 65.4   50.8   57.637 61.4   58.3   58.7   58.    56.6   62.9   63.5\n",
            " 63.8   49.9   51.3   51.1   50.1   66.3   66.5   58.5   58.1   60.6\n",
            " 54.2   60.1   65.25  65.26  70.3   72.5   72.2   59.2   66.8   64.06\n",
            " 74.3   75.    59.4   59.1   59.45  56.4   48.7   48.8   48.9   48.5\n",
            " 48.6   49.1   49.    47.7   47.3   46.3   52.9   51.8   51.2   52.\n",
            " 56.64  69.3   70.4   57.6   58.76  62.6   61.    62.8   58.9   64.9\n",
            " 59.7   59.3   68.3   71.6   70.9   72.6   70.5   73.2   66.6   67.9\n",
            " 68.9   63.1   59.8   64.7   66.2   53.3   70.6   69.8   70.7   71.1\n",
            " 72.4   72.7   71.    71.7   70.1   69.6   70.    68.8   69.7   68.5\n",
            " 64.6   68.6   63.2   60.    71.2   56.9   67.1   64.8   68.1   58.8\n",
            " 61.2   62.7   61.9   59.6   60.2   59.5   52.7   67.3   66.7   64.\n",
            " 63.9   69.1   69.4   67.7   70.8   72.1   70.2   68.    64.2   66.9\n",
            " 64.4   57.28  60.4   63.    63.4   57.08  44.7   54.3   74.2   73.8\n",
            " 74.6   73.    75.6   72.8   78.3   77.8   76.7   76.6   75.2   78.1\n",
            " 48.1   48.3   48.    48.4   48.2   60.9   60.7   69.    76.    72.3\n",
            " 55.75  55.35  51.    61.5   52.4   51.4   61.6   78.7   72.    72.9\n",
            " 73.3   67.    62.4   52.2   51.9   60.5   59.    63.3   62.5   74.5\n",
            " 73.7   52.1   50.2   51.6   74.    61.7   62.2   64.5   64.3   60.71\n",
            " 60.3   66.4   63.6   65.8   50.6   65.5   71.5   73.6   76.2   75.8\n",
            " 60.8  ]\n"
          ]
        }
      ]
    },
    {
      "cell_type": "markdown",
      "source": [
        "Turning Diameter\n",
        "- promienie zawracania zawierające jednostki, zły format danych"
      ],
      "metadata": {
        "id": "dmpOzP7VUUP_"
      }
    },
    {
      "cell_type": "code",
      "source": [
        "print(df[\"Turning Diameter\"].unique())\n",
        "\n",
        "df.drop(df[~df[\"Turning Diameter\"].str.replace('.','',1).str.isnumeric()].index, inplace=True)\n",
        "\n",
        "df['Turning Diameter'] = pd.to_numeric(df['Turning Diameter'])\n",
        "\n",
        "print(df[\"Turning Diameter\"].unique())"
      ],
      "metadata": {
        "id": "Dyl723EVUUr8",
        "colab": {
          "base_uri": "https://localhost:8080/"
        },
        "outputId": "11764dd6-d92b-4bc1-9d5c-591ba18dba8d"
      },
      "execution_count": 202,
      "outputs": [
        {
          "output_type": "stream",
          "name": "stdout",
          "text": [
            "['39' '38.9' '39.0' '39.2' '37.4' '38.7' '38.4' '37.6' '38.0' '38' '37.2'\n",
            " '37.8' '39.5' '38.8' '36.8' '36.1' '36.100' '39.7' '38.1' '40.5' '35.5'\n",
            " '39.000' '38.3' '34.8' '37.7' '37.400' '36.4' '39.4' '37.700' '35.100'\n",
            " '35.1' '35.11' '36' '35.96' '36.0' '34.2' '34.7' '41.7' '41.0' '40.4'\n",
            " '37' '37.1' '37.3' '37.0' '38.700' '34.4' '35.8' '35.4' '34.1' '32.8'\n",
            " '42.000' '42.0' '40.2' '40.1' '39.206' '40.0' '40.7' '37.5' '40' '32.2'\n",
            " '34.3' '32.0' '42' '42.7' '41.3' '39.8' '41' '38.400' '36.7' '38.05'\n",
            " '35.99' '36.38' '36.40' '31.15' '35.40' '36.6' '35.0' '35.9' '57.1'\n",
            " '56.2' '40.3' '37.9' '37.90' '38.38' '42.3' '40.8' '40.64' '40.09'\n",
            " '40.65' '36.00' '41.8' '36.3' '35.7' '33.8' '32.5' '38.00' '40.00' '39.6'\n",
            " '43.6' '34.5' '34.50' '36.10' '38.5' '38.900' '37.500' '39.9' '39.1'\n",
            " '39.100' '30.6' '32.3' '31.3' '36.9' '31.4' '31.5' '35.6' '38.6' '42.6'\n",
            " '34.9' '34.700' '34.120' '34.780' '33.9' '33.2' '17.25' '17.3' '34.6'\n",
            " '33.5' '34.100' '33.1' '15.9' '31.8' '36.5' '41.2' '34.0' '35.3' '35.600'\n",
            " '37.200' '35.700' '35.76' '35' '33.900' '34.600' '34.500' '33.500' '32.7'\n",
            " '30.8' '38.2' '41.1' '17.5' '45.2' '38.100' '19.7' '18.7' '39.3' '38.000'\n",
            " '39.34' '40.83' '41.5' '42.4' '41.500' '42.400' '43.93' '33.3' '17.1'\n",
            " '35.400' '30.2' '30.0' '36.700' '43.5' '35.2' '37.000' '37.100' '36.2'\n",
            " '34.800' '36.600' '43' '47.9' '43.0' '45.3' '45.9' '44' '28.7' '22.8'\n",
            " '28.700' '34.400' '36.800' '33.4' '34.200' '32.6' '35.800' '39.400'\n",
            " '47.2' '35.8 ft']\n",
            "[39.    38.9   39.2   37.4   38.7   38.4   37.6   38.    37.2   37.8\n",
            " 39.5   38.8   36.8   36.1   39.7   38.1   40.5   35.5   38.3   34.8\n",
            " 37.7   36.4   39.4   35.1   35.11  36.    35.96  34.2   34.7   41.7\n",
            " 41.    40.4   37.    37.1   37.3   34.4   35.8   35.4   34.1   32.8\n",
            " 42.    40.2   40.1   39.206 40.    40.7   37.5   32.2   34.3   32.\n",
            " 42.7   41.3   39.8   36.7   38.05  35.99  36.38  31.15  36.6   35.\n",
            " 35.9   57.1   56.2   40.3   37.9   38.38  42.3   40.8   40.64  40.09\n",
            " 40.65  41.8   36.3   35.7   33.8   32.5   39.6   43.6   34.5   38.5\n",
            " 39.9   39.1   30.6   32.3   31.3   36.9   31.4   31.5   35.6   38.6\n",
            " 42.6   34.9   34.12  34.78  33.9   33.2   17.25  17.3   34.6   33.5\n",
            " 33.1   15.9   31.8   36.5   41.2   34.    35.3   35.76  32.7   30.8\n",
            " 38.2   41.1   17.5   45.2   19.7   18.7   39.3   39.34  40.83  41.5\n",
            " 42.4   43.93  33.3   17.1   30.2   30.    43.5   35.2   36.2   43.\n",
            " 47.9   45.3   45.9   44.    28.7   22.8   33.4   32.6   47.2  ]\n"
          ]
        },
        {
          "output_type": "stream",
          "name": "stderr",
          "text": [
            "/usr/local/lib/python3.7/dist-packages/ipykernel_launcher.py:3: FutureWarning: The default value of regex will change from True to False in a future version. In addition, single character regular expressions will *not* be treated as literal strings when regex=True.\n",
            "  This is separate from the ipykernel package so we can avoid doing imports until\n"
          ]
        }
      ]
    },
    {
      "cell_type": "markdown",
      "source": [
        "Tire Width\n",
        "- szerokości opon z dodatkowymi oznaczeniami, zły format danych"
      ],
      "metadata": {
        "id": "VohjOOKNUVDg"
      }
    },
    {
      "cell_type": "code",
      "source": [
        "print(df[\"Tire Width\"].unique())\n",
        "\n",
        "df.drop(df[~df[\"Tire Width\"].str.replace('.','',1).str.isnumeric()].index, inplace=True)\n",
        "\n",
        "df['Tire Width'] = pd.to_numeric(df['Tire Width'])\n",
        "\n",
        "print(df[\"Tire Width\"].unique())"
      ],
      "metadata": {
        "id": "vuDzwE4FUVSs",
        "colab": {
          "base_uri": "https://localhost:8080/"
        },
        "outputId": "b2bf445c-3d21-493b-b2ee-dc454c0140bc"
      },
      "execution_count": 203,
      "outputs": [
        {
          "output_type": "stream",
          "name": "stdout",
          "text": [
            "['235' '255' '245' '265' '225' '215' '205' '195' '275' '285' '185' '305'\n",
            " '175' '165' '155' '295' 'T25' 'T24']\n",
            "[235 255 245 265 225 215 205 195 275 285 185 305 175 165 155 295]\n"
          ]
        },
        {
          "output_type": "stream",
          "name": "stderr",
          "text": [
            "/usr/local/lib/python3.7/dist-packages/ipykernel_launcher.py:3: FutureWarning: The default value of regex will change from True to False in a future version. In addition, single character regular expressions will *not* be treated as literal strings when regex=True.\n",
            "  This is separate from the ipykernel package so we can avoid doing imports until\n"
          ]
        }
      ]
    },
    {
      "cell_type": "markdown",
      "source": [
        "Tire Profile\n",
        "- profile opon z dodatkowym oznaczeniem, zły format danych"
      ],
      "metadata": {
        "id": "ijvSWsxWUVrL"
      }
    },
    {
      "cell_type": "code",
      "source": [
        "print(df[\"Tire Profile\"].unique())\n",
        "\n",
        "df.drop(df[~df[\"Tire Profile\"].str.replace('.','',1).str.isnumeric()].index, inplace=True)\n",
        "\n",
        "df['Tire Profile'] = pd.to_numeric(df['Tire Profile'])\n",
        "\n",
        "print(df[\"Tire Profile\"].unique())"
      ],
      "metadata": {
        "id": "JXCBHKdDUgw9",
        "colab": {
          "base_uri": "https://localhost:8080/"
        },
        "outputId": "9a13fb4a-ef4c-40b4-9452-f1d938c9c23a"
      },
      "execution_count": 204,
      "outputs": [
        {
          "output_type": "stream",
          "name": "stdout",
          "text": [
            "['55' '45' '60' '50' '65' '40' '35' '70' '30' '75' '80']\n",
            "[55 45 60 50 65 40 35 70 30 75 80]\n"
          ]
        },
        {
          "output_type": "stream",
          "name": "stderr",
          "text": [
            "/usr/local/lib/python3.7/dist-packages/ipykernel_launcher.py:3: FutureWarning: The default value of regex will change from True to False in a future version. In addition, single character regular expressions will *not* be treated as literal strings when regex=True.\n",
            "  This is separate from the ipykernel package so we can avoid doing imports until\n"
          ]
        }
      ]
    },
    {
      "cell_type": "markdown",
      "source": [
        "Rim Size\n",
        "  - zły format danych"
      ],
      "metadata": {
        "id": "8mhx8S00fBc3"
      }
    },
    {
      "cell_type": "code",
      "source": [
        "print(df[\"Rim Size\"].unique())\n",
        "\n",
        "df.drop(df[~df[\"Rim Size\"].str.replace('.','',1).str.isnumeric()].index, inplace=True)\n",
        "\n",
        "df['Rim Size'] = pd.to_numeric(df['Rim Size'])\n",
        "\n",
        "print(df[\"Rim Size\"].unique())"
      ],
      "metadata": {
        "id": "EZmBemsbfFNN",
        "colab": {
          "base_uri": "https://localhost:8080/"
        },
        "outputId": "89bc284d-971d-45d5-ca05-ecfb70f3c223"
      },
      "execution_count": 205,
      "outputs": [
        {
          "output_type": "stream",
          "name": "stdout",
          "text": [
            "['19' '20' '18' '17' '16' '15' '21' '22' '14' '13']\n",
            "[19 20 18 17 16 15 21 22 14 13]\n"
          ]
        },
        {
          "output_type": "stream",
          "name": "stderr",
          "text": [
            "/usr/local/lib/python3.7/dist-packages/ipykernel_launcher.py:3: FutureWarning: The default value of regex will change from True to False in a future version. In addition, single character regular expressions will *not* be treated as literal strings when regex=True.\n",
            "  This is separate from the ipykernel package so we can avoid doing imports until\n"
          ]
        }
      ]
    },
    {
      "cell_type": "markdown",
      "source": [
        "Body Style\n",
        "- typy nadwozia niewskazujące na jego kształt"
      ],
      "metadata": {
        "id": "xBLkHbJIUhkF"
      }
    },
    {
      "cell_type": "code",
      "source": [
        "print(df[\"Body Style\"].unique())\n",
        "\n",
        "df.drop(df[df[\"Body Style\"] == \"4dr Car\"].index, inplace=True)\n",
        "df.drop(df[df[\"Body Style\"] == \"2dr Car\"].index, inplace=True)\n",
        "df.drop(df[df[\"Body Style\"] == \"3dr Car\"].index, inplace=True)\n",
        "\n",
        "print(df[\"Body Style\"].unique())"
      ],
      "metadata": {
        "id": "ae6d-pUjUh97",
        "colab": {
          "base_uri": "https://localhost:8080/"
        },
        "outputId": "ecde2c33-1e86-4cbf-d8f3-53173de46268"
      },
      "execution_count": 206,
      "outputs": [
        {
          "output_type": "stream",
          "name": "stdout",
          "text": [
            "['Sport Utility' '4dr Car' '2dr Car' 'Convertible' 'Station Wagon'\n",
            " 'Mini-van, Passenger' 'Crew Cab Pickup - Short Bed' '3dr Car' 'Hatchback'\n",
            " 'Full-size Passenger Van']\n",
            "['Sport Utility' 'Convertible' 'Station Wagon' 'Mini-van, Passenger'\n",
            " 'Crew Cab Pickup - Short Bed' 'Hatchback' 'Full-size Passenger Van']\n"
          ]
        }
      ]
    },
    {
      "cell_type": "markdown",
      "source": [
        "Następnie zmniejszmy ilość danych, tak aby obliczenia trwały sensowną ilość czasu"
      ],
      "metadata": {
        "id": "RK4BL8y6f8W5"
      }
    },
    {
      "cell_type": "code",
      "source": [
        "df = df.drop(df[df['Body Style'] == 'Sport Utility'].sample(frac=.9).index)\n",
        "df = df.drop(df[df['Body Style'] == 'Station Wagon'].sample(frac=.5).index)\n",
        "df = df.drop(df[df['Body Style'] == 'Convertible'].sample(frac=.4).index)\n",
        "\n",
        "print(df['Body Style'].value_counts())"
      ],
      "metadata": {
        "id": "0rbTzQFMf-QY",
        "colab": {
          "base_uri": "https://localhost:8080/"
        },
        "outputId": "94e89b9d-8526-4381-f8a3-e4b1a9b55eba"
      },
      "execution_count": 207,
      "outputs": [
        {
          "output_type": "stream",
          "name": "stdout",
          "text": [
            "Station Wagon                  446\n",
            "Sport Utility                  419\n",
            "Convertible                    411\n",
            "Mini-van, Passenger            401\n",
            "Crew Cab Pickup - Short Bed     37\n",
            "Hatchback                       12\n",
            "Full-size Passenger Van          8\n",
            "Name: Body Style, dtype: int64\n"
          ]
        }
      ]
    },
    {
      "cell_type": "markdown",
      "source": [
        "Zamieńmy nasze typy nadwozia na liczby"
      ],
      "metadata": {
        "id": "Du7YaM4HLYgK"
      }
    },
    {
      "cell_type": "code",
      "source": [
        "map = {\n",
        "    \"Convertible\": \"0\",\n",
        "    \"Station Wagon\": \"1\",        \n",
        "    \"Sport Utility\": \"2\",          \n",
        "    \"Mini-van, Passenger\": \"3\",        \n",
        "    \"Crew Cab Pickup - Short Bed\": \"4\", \n",
        "    \"Hatchback\": \"5\",                   \n",
        "    \"Full-size Passenger Van\": \"6\"    \n",
        "}\n",
        "\n",
        "for bodyType in map:\n",
        "  df[\"Body Style\"].replace(bodyType, map[bodyType], inplace=True)\n",
        "\n",
        "df['Body Style'] = pd.to_numeric(df['Body Style'])\n",
        "\n",
        "df.head()"
      ],
      "metadata": {
        "id": "UEdJtjFaLlIg",
        "colab": {
          "base_uri": "https://localhost:8080/",
          "height": 220
        },
        "outputId": "642d36ae-e7ef-4fd5-ffaf-6da7b4d1701e"
      },
      "execution_count": 208,
      "outputs": [
        {
          "output_type": "execute_result",
          "data": {
            "text/plain": [
              "    Drivetrain  Passenger Capacity  Passenger Doors  Weight  Passenger Volume  \\\n",
              "                                                                                \n",
              "16           3                   5                4    3907             103.5   \n",
              "21           0                   5                4    3743             103.5   \n",
              "22           0                   5                4    3737             103.5   \n",
              "24           3                   5                4    3931             103.5   \n",
              "32           0                   5                4    3732             103.5   \n",
              "\n",
              "    Wheelbase  Track Width  Height  Turning Diameter  Tire Width  \\\n",
              "                                                                   \n",
              "16      105.7         63.1    65.0              38.9         235   \n",
              "21      105.7         63.1    65.0              38.9         235   \n",
              "22      105.7         63.1    65.0              38.9         235   \n",
              "24      105.7         63.1    65.0              38.9         235   \n",
              "32      105.7         63.1    66.1              38.9         235   \n",
              "\n",
              "    Tire Profile  Rim Size  Body Style  \n",
              "                                        \n",
              "16            60        18           2  \n",
              "21            60        18           2  \n",
              "22            60        18           2  \n",
              "24            60        18           2  \n",
              "32            60        18           2  "
            ],
            "text/html": [
              "\n",
              "  <div id=\"df-62d5e6fa-c1ee-45be-bfb4-1d47307cd049\">\n",
              "    <div class=\"colab-df-container\">\n",
              "      <div>\n",
              "<style scoped>\n",
              "    .dataframe tbody tr th:only-of-type {\n",
              "        vertical-align: middle;\n",
              "    }\n",
              "\n",
              "    .dataframe tbody tr th {\n",
              "        vertical-align: top;\n",
              "    }\n",
              "\n",
              "    .dataframe thead th {\n",
              "        text-align: right;\n",
              "    }\n",
              "</style>\n",
              "<table border=\"1\" class=\"dataframe\">\n",
              "  <thead>\n",
              "    <tr style=\"text-align: right;\">\n",
              "      <th></th>\n",
              "      <th>Drivetrain</th>\n",
              "      <th>Passenger Capacity</th>\n",
              "      <th>Passenger Doors</th>\n",
              "      <th>Weight</th>\n",
              "      <th>Passenger Volume</th>\n",
              "      <th>Wheelbase</th>\n",
              "      <th>Track Width</th>\n",
              "      <th>Height</th>\n",
              "      <th>Turning Diameter</th>\n",
              "      <th>Tire Width</th>\n",
              "      <th>Tire Profile</th>\n",
              "      <th>Rim Size</th>\n",
              "      <th>Body Style</th>\n",
              "    </tr>\n",
              "    <tr>\n",
              "      <th></th>\n",
              "      <th></th>\n",
              "      <th></th>\n",
              "      <th></th>\n",
              "      <th></th>\n",
              "      <th></th>\n",
              "      <th></th>\n",
              "      <th></th>\n",
              "      <th></th>\n",
              "      <th></th>\n",
              "      <th></th>\n",
              "      <th></th>\n",
              "      <th></th>\n",
              "      <th></th>\n",
              "    </tr>\n",
              "  </thead>\n",
              "  <tbody>\n",
              "    <tr>\n",
              "      <th>16</th>\n",
              "      <td>3</td>\n",
              "      <td>5</td>\n",
              "      <td>4</td>\n",
              "      <td>3907</td>\n",
              "      <td>103.5</td>\n",
              "      <td>105.7</td>\n",
              "      <td>63.1</td>\n",
              "      <td>65.0</td>\n",
              "      <td>38.9</td>\n",
              "      <td>235</td>\n",
              "      <td>60</td>\n",
              "      <td>18</td>\n",
              "      <td>2</td>\n",
              "    </tr>\n",
              "    <tr>\n",
              "      <th>21</th>\n",
              "      <td>0</td>\n",
              "      <td>5</td>\n",
              "      <td>4</td>\n",
              "      <td>3743</td>\n",
              "      <td>103.5</td>\n",
              "      <td>105.7</td>\n",
              "      <td>63.1</td>\n",
              "      <td>65.0</td>\n",
              "      <td>38.9</td>\n",
              "      <td>235</td>\n",
              "      <td>60</td>\n",
              "      <td>18</td>\n",
              "      <td>2</td>\n",
              "    </tr>\n",
              "    <tr>\n",
              "      <th>22</th>\n",
              "      <td>0</td>\n",
              "      <td>5</td>\n",
              "      <td>4</td>\n",
              "      <td>3737</td>\n",
              "      <td>103.5</td>\n",
              "      <td>105.7</td>\n",
              "      <td>63.1</td>\n",
              "      <td>65.0</td>\n",
              "      <td>38.9</td>\n",
              "      <td>235</td>\n",
              "      <td>60</td>\n",
              "      <td>18</td>\n",
              "      <td>2</td>\n",
              "    </tr>\n",
              "    <tr>\n",
              "      <th>24</th>\n",
              "      <td>3</td>\n",
              "      <td>5</td>\n",
              "      <td>4</td>\n",
              "      <td>3931</td>\n",
              "      <td>103.5</td>\n",
              "      <td>105.7</td>\n",
              "      <td>63.1</td>\n",
              "      <td>65.0</td>\n",
              "      <td>38.9</td>\n",
              "      <td>235</td>\n",
              "      <td>60</td>\n",
              "      <td>18</td>\n",
              "      <td>2</td>\n",
              "    </tr>\n",
              "    <tr>\n",
              "      <th>32</th>\n",
              "      <td>0</td>\n",
              "      <td>5</td>\n",
              "      <td>4</td>\n",
              "      <td>3732</td>\n",
              "      <td>103.5</td>\n",
              "      <td>105.7</td>\n",
              "      <td>63.1</td>\n",
              "      <td>66.1</td>\n",
              "      <td>38.9</td>\n",
              "      <td>235</td>\n",
              "      <td>60</td>\n",
              "      <td>18</td>\n",
              "      <td>2</td>\n",
              "    </tr>\n",
              "  </tbody>\n",
              "</table>\n",
              "</div>\n",
              "      <button class=\"colab-df-convert\" onclick=\"convertToInteractive('df-62d5e6fa-c1ee-45be-bfb4-1d47307cd049')\"\n",
              "              title=\"Convert this dataframe to an interactive table.\"\n",
              "              style=\"display:none;\">\n",
              "        \n",
              "  <svg xmlns=\"http://www.w3.org/2000/svg\" height=\"24px\"viewBox=\"0 0 24 24\"\n",
              "       width=\"24px\">\n",
              "    <path d=\"M0 0h24v24H0V0z\" fill=\"none\"/>\n",
              "    <path d=\"M18.56 5.44l.94 2.06.94-2.06 2.06-.94-2.06-.94-.94-2.06-.94 2.06-2.06.94zm-11 1L8.5 8.5l.94-2.06 2.06-.94-2.06-.94L8.5 2.5l-.94 2.06-2.06.94zm10 10l.94 2.06.94-2.06 2.06-.94-2.06-.94-.94-2.06-.94 2.06-2.06.94z\"/><path d=\"M17.41 7.96l-1.37-1.37c-.4-.4-.92-.59-1.43-.59-.52 0-1.04.2-1.43.59L10.3 9.45l-7.72 7.72c-.78.78-.78 2.05 0 2.83L4 21.41c.39.39.9.59 1.41.59.51 0 1.02-.2 1.41-.59l7.78-7.78 2.81-2.81c.8-.78.8-2.07 0-2.86zM5.41 20L4 18.59l7.72-7.72 1.47 1.35L5.41 20z\"/>\n",
              "  </svg>\n",
              "      </button>\n",
              "      \n",
              "  <style>\n",
              "    .colab-df-container {\n",
              "      display:flex;\n",
              "      flex-wrap:wrap;\n",
              "      gap: 12px;\n",
              "    }\n",
              "\n",
              "    .colab-df-convert {\n",
              "      background-color: #E8F0FE;\n",
              "      border: none;\n",
              "      border-radius: 50%;\n",
              "      cursor: pointer;\n",
              "      display: none;\n",
              "      fill: #1967D2;\n",
              "      height: 32px;\n",
              "      padding: 0 0 0 0;\n",
              "      width: 32px;\n",
              "    }\n",
              "\n",
              "    .colab-df-convert:hover {\n",
              "      background-color: #E2EBFA;\n",
              "      box-shadow: 0px 1px 2px rgba(60, 64, 67, 0.3), 0px 1px 3px 1px rgba(60, 64, 67, 0.15);\n",
              "      fill: #174EA6;\n",
              "    }\n",
              "\n",
              "    [theme=dark] .colab-df-convert {\n",
              "      background-color: #3B4455;\n",
              "      fill: #D2E3FC;\n",
              "    }\n",
              "\n",
              "    [theme=dark] .colab-df-convert:hover {\n",
              "      background-color: #434B5C;\n",
              "      box-shadow: 0px 1px 3px 1px rgba(0, 0, 0, 0.15);\n",
              "      filter: drop-shadow(0px 1px 2px rgba(0, 0, 0, 0.3));\n",
              "      fill: #FFFFFF;\n",
              "    }\n",
              "  </style>\n",
              "\n",
              "      <script>\n",
              "        const buttonEl =\n",
              "          document.querySelector('#df-62d5e6fa-c1ee-45be-bfb4-1d47307cd049 button.colab-df-convert');\n",
              "        buttonEl.style.display =\n",
              "          google.colab.kernel.accessAllowed ? 'block' : 'none';\n",
              "\n",
              "        async function convertToInteractive(key) {\n",
              "          const element = document.querySelector('#df-62d5e6fa-c1ee-45be-bfb4-1d47307cd049');\n",
              "          const dataTable =\n",
              "            await google.colab.kernel.invokeFunction('convertToInteractive',\n",
              "                                                     [key], {});\n",
              "          if (!dataTable) return;\n",
              "\n",
              "          const docLinkHtml = 'Like what you see? Visit the ' +\n",
              "            '<a target=\"_blank\" href=https://colab.research.google.com/notebooks/data_table.ipynb>data table notebook</a>'\n",
              "            + ' to learn more about interactive tables.';\n",
              "          element.innerHTML = '';\n",
              "          dataTable['output_type'] = 'display_data';\n",
              "          await google.colab.output.renderOutput(dataTable, element);\n",
              "          const docLink = document.createElement('div');\n",
              "          docLink.innerHTML = docLinkHtml;\n",
              "          element.appendChild(docLink);\n",
              "        }\n",
              "      </script>\n",
              "    </div>\n",
              "  </div>\n",
              "  "
            ]
          },
          "metadata": {},
          "execution_count": 208
        }
      ]
    },
    {
      "cell_type": "markdown",
      "source": [
        "Rozprawmy się ze złym zbalansowaniem zestawu i podzielmy dataFrame na data i target"
      ],
      "metadata": {
        "id": "jPK0dNNYNo9o"
      }
    },
    {
      "cell_type": "code",
      "source": [
        "from sklearn.model_selection import train_test_split\n",
        "from imblearn.over_sampling import RandomOverSampler\n",
        "\n",
        "X = df.iloc[: , :12]\n",
        "y = df[\"Body Style\"]\n",
        "\n",
        "ros = RandomOverSampler(random_state=0)\n",
        "X_resampled, y_resampled = ros.fit_resample(X, y)\n",
        "\n",
        "print(y_resampled.value_counts())\n",
        "\n",
        "X_train, X_test, y_train, y_test = train_test_split(X_resampled, y_resampled, test_size=0.33, random_state=42)"
      ],
      "metadata": {
        "id": "vsMzkq93Nt6b",
        "colab": {
          "base_uri": "https://localhost:8080/"
        },
        "outputId": "1273930c-ffe1-470c-a311-de3cb3d8ed72"
      },
      "execution_count": 209,
      "outputs": [
        {
          "output_type": "stream",
          "name": "stdout",
          "text": [
            "2    446\n",
            "0    446\n",
            "1    446\n",
            "3    446\n",
            "4    446\n",
            "5    446\n",
            "6    446\n",
            "Name: Body Style, dtype: int64\n"
          ]
        }
      ]
    },
    {
      "cell_type": "markdown",
      "source": [
        "Definicja heatmapy z zajęć, pomagająca dobierać odpowiednie parametry i obrazować co się dzieje z klasyfikatorem"
      ],
      "metadata": {
        "id": "OyDS_q4LHbPs"
      }
    },
    {
      "cell_type": "code",
      "source": [
        "def heatmap(values, xlabel, ylabel, xticklabels, yticklabels, cmap=None,\n",
        "            vmin=None, vmax=None, ax=None, fmt=\"%0.2f\"):\n",
        "    if ax is None:\n",
        "        ax = plt.gca()\n",
        "    # plot the mean cross-validation scores\n",
        "    img = ax.pcolor(values, cmap=cmap, vmin=vmin, vmax=vmax)\n",
        "    img.update_scalarmappable()\n",
        "    ax.set_xlabel(xlabel)\n",
        "    ax.set_ylabel(ylabel)\n",
        "    ax.set_xticks(np.arange(len(xticklabels)) + .5)\n",
        "    ax.set_yticks(np.arange(len(yticklabels)) + .5)\n",
        "    ax.set_xticklabels(xticklabels)\n",
        "    ax.set_yticklabels(yticklabels)\n",
        "    ax.set_aspect(1)\n",
        "\n",
        "    for p, color, value in zip(img.get_paths(), img.get_facecolors(),\n",
        "                               img.get_array()):\n",
        "        x, y = p.vertices[:-2, :].mean(0)\n",
        "        if np.mean(color[:3]) > 0.5:\n",
        "            c = 'k'\n",
        "        else:\n",
        "            c = 'w'\n",
        "        ax.text(x, y, fmt % value, color=c, ha=\"center\", va=\"center\")\n",
        "    return img"
      ],
      "metadata": {
        "id": "qUV-vT3nHaiZ"
      },
      "execution_count": 210,
      "outputs": []
    },
    {
      "cell_type": "markdown",
      "source": [
        "Przejdźmy do modelowania"
      ],
      "metadata": {
        "id": "y0KmkhfzO2np"
      }
    },
    {
      "cell_type": "code",
      "source": [
        "from sklearn.model_selection import GridSearchCV\n",
        "from sklearn.preprocessing import StandardScaler\n",
        "from sklearn.pipeline import Pipeline\n",
        "from sklearn.svm import SVC\n",
        "\n",
        "models = []"
      ],
      "metadata": {
        "id": "0pKpn8qVH4lX"
      },
      "execution_count": 211,
      "outputs": []
    },
    {
      "cell_type": "code",
      "source": [
        "from sklearn.model_selection import StratifiedKFold\n",
        "\n",
        "kfold = StratifiedKFold(n_splits=5, random_state=123, shuffle=True)"
      ],
      "metadata": {
        "id": "1_OnIgctPcOh"
      },
      "execution_count": 212,
      "outputs": []
    },
    {
      "cell_type": "code",
      "source": [
        "pipe = Pipeline([('preprocessing', StandardScaler()), ('classifier', SVC(kernel='rbf', probability=True))])\n",
        "\n",
        "param_grid = {\n",
        "            'preprocessing': [StandardScaler(), None],\n",
        "            'classifier__gamma': [0.001, 0.01, 0.1, 1, 10, 100],\n",
        "            'classifier__C': [0.001, 0.01, 0.1, 1, 10, 100]\n",
        "}\n",
        "\n",
        "grid_1 = GridSearchCV(pipe, param_grid, cv=kfold, return_train_score=True)\n",
        "grid_1.fit(X_train, y_train)\n",
        "\n",
        "results = pd.DataFrame(grid_1.cv_results_)\n",
        "scores = np.array(results.mean_test_score).reshape(6, 6, 2)\n",
        "scores = scores[:,:,0]\n",
        "heatmap(scores, xlabel='classifier__gamma', xticklabels=param_grid['classifier__gamma'], ylabel='classifier__C', yticklabels=param_grid['classifier__C'], cmap=\"viridis\")\n",
        "plt.show()\n",
        "\n",
        "models.append(('SVM rbf', grid_1.best_estimator_))"
      ],
      "metadata": {
        "colab": {
          "base_uri": "https://localhost:8080/",
          "height": 280
        },
        "id": "IcSJiCveO4dw",
        "outputId": "68ae859a-ed2a-4bd8-86e5-8fd8c3bd4f01"
      },
      "execution_count": 213,
      "outputs": [
        {
          "output_type": "display_data",
          "data": {
            "text/plain": [
              "<Figure size 432x288 with 1 Axes>"
            ],
            "image/png": "[encoded data removed]"
          },
          "metadata": {
            "needs_background": "light"
          }
        }
      ]
    },
    {
      "cell_type": "code",
      "source": [
        "from sklearn.tree import DecisionTreeClassifier\n",
        "\n",
        "pipe = Pipeline([('preprocessing', StandardScaler()), ('classifier', DecisionTreeClassifier(max_depth=4, random_state=0))])\n",
        "\n",
        "param_grid = {\n",
        "            'preprocessing': [StandardScaler(), None],\n",
        "            'classifier__max_depth': [3, 6, 9, 12, 15, 18],\n",
        "            'classifier__min_samples_leaf': [1, 2, 3, 4, 5, 6]\n",
        "}\n",
        "\n",
        "grid_2 = GridSearchCV(pipe, param_grid, cv=kfold, return_train_score=True)\n",
        "grid_2.fit(X_train, y_train)\n",
        "\n",
        "results = pd.DataFrame(grid_2.cv_results_)\n",
        "scores = np.array(results.mean_test_score).reshape(6, 6, 2)\n",
        "scores = scores[:,:,0]\n",
        "heatmap(scores, xlabel='classifier__max_depth', xticklabels=param_grid['classifier__max_depth'], ylabel='classifier__min_samples_leaf', yticklabels=param_grid['classifier__min_samples_leaf'], cmap=\"viridis\")\n",
        "plt.show()\n",
        "\n",
        "models.append(('Decision tree', grid_2.best_estimator_))\n"
      ],
      "metadata": {
        "id": "waig4fgsVrFL",
        "colab": {
          "base_uri": "https://localhost:8080/",
          "height": 280
        },
        "outputId": "06592bf1-ab14-45b6-aace-5d9fbfde1aec"
      },
      "execution_count": 214,
      "outputs": [
        {
          "output_type": "display_data",
          "data": {
            "text/plain": [
              "<Figure size 432x288 with 1 Axes>"
            ],
            "image/png": "[encoded data removed]"
          },
          "metadata": {
            "needs_background": "light"
          }
        }
      ]
    },
    {
      "cell_type": "code",
      "source": [
        "from sklearn.linear_model import LogisticRegression\n",
        "\n",
        "pipe = Pipeline([('preprocessing', StandardScaler()), ('classifier', LogisticRegression())])\n",
        "\n",
        "param_grid = {\n",
        "            'preprocessing': [StandardScaler(), None],\n",
        "            'classifier__solver': ['newton-cg', 'liblinear', 'sag', 'saga'],\n",
        "            'classifier__C': [0.01, 0.1, 1, 10, 100, 1000]\n",
        "}\n",
        "\n",
        "grid_3 = GridSearchCV(pipe, param_grid, cv=kfold, return_train_score=True)\n",
        "grid_3.fit(X_train, y_train)\n",
        "\n",
        "results = pd.DataFrame(grid_3.cv_results_)\n",
        "scores = np.array(results.mean_test_score).reshape(6, 4, 2)\n",
        "scores = scores[:,:,0]\n",
        "heatmap(scores, xlabel='classifier__solver', xticklabels=param_grid['classifier__solver'], ylabel='classifier__C', yticklabels=param_grid['classifier__C'], cmap=\"viridis\")\n",
        "plt.show()\n",
        "\n",
        "models.append(('Logistic regression', grid_3.best_estimator_))"
      ],
      "metadata": {
        "id": "WMbT6E86bvaz",
        "colab": {
          "base_uri": "https://localhost:8080/",
          "height": 1000
        },
        "outputId": "e4f69c54-1373-4f1c-8925-506edbdb094e"
      },
      "execution_count": 215,
      "outputs": [
        {
          "output_type": "stream",
          "name": "stderr",
          "text": [
            "/usr/local/lib/python3.7/dist-packages/sklearn/utils/optimize.py:212: ConvergenceWarning: newton-cg failed to converge. Increase the number of iterations.\n",
            "  ConvergenceWarning,\n",
            "/usr/local/lib/python3.7/dist-packages/sklearn/utils/optimize.py:212: ConvergenceWarning: newton-cg failed to converge. Increase the number of iterations.\n",
            "  ConvergenceWarning,\n",
            "/usr/local/lib/python3.7/dist-packages/sklearn/utils/optimize.py:212: ConvergenceWarning: newton-cg failed to converge. Increase the number of iterations.\n",
            "  ConvergenceWarning,\n",
            "/usr/local/lib/python3.7/dist-packages/sklearn/utils/optimize.py:212: ConvergenceWarning: newton-cg failed to converge. Increase the number of iterations.\n",
            "  ConvergenceWarning,\n",
            "/usr/local/lib/python3.7/dist-packages/sklearn/utils/optimize.py:212: ConvergenceWarning: newton-cg failed to converge. Increase the number of iterations.\n",
            "  ConvergenceWarning,\n",
            "/usr/local/lib/python3.7/dist-packages/sklearn/linear_model/_sag.py:354: ConvergenceWarning: The max_iter was reached which means the coef_ did not converge\n",
            "  ConvergenceWarning,\n",
            "/usr/local/lib/python3.7/dist-packages/sklearn/linear_model/_sag.py:354: ConvergenceWarning: The max_iter was reached which means the coef_ did not converge\n",
            "  ConvergenceWarning,\n",
            "/usr/local/lib/python3.7/dist-packages/sklearn/linear_model/_sag.py:354: ConvergenceWarning: The max_iter was reached which means the coef_ did not converge\n",
            "  ConvergenceWarning,\n",
            "/usr/local/lib/python3.7/dist-packages/sklearn/linear_model/_sag.py:354: ConvergenceWarning: The max_iter was reached which means the coef_ did not converge\n",
            "  ConvergenceWarning,\n",
            "/usr/local/lib/python3.7/dist-packages/sklearn/linear_model/_sag.py:354: ConvergenceWarning: The max_iter was reached which means the coef_ did not converge\n",
            "  ConvergenceWarning,\n",
            "/usr/local/lib/python3.7/dist-packages/sklearn/linear_model/_sag.py:354: ConvergenceWarning: The max_iter was reached which means the coef_ did not converge\n",
            "  ConvergenceWarning,\n",
            "/usr/local/lib/python3.7/dist-packages/sklearn/linear_model/_sag.py:354: ConvergenceWarning: The max_iter was reached which means the coef_ did not converge\n",
            "  ConvergenceWarning,\n",
            "/usr/local/lib/python3.7/dist-packages/sklearn/linear_model/_sag.py:354: ConvergenceWarning: The max_iter was reached which means the coef_ did not converge\n",
            "  ConvergenceWarning,\n",
            "/usr/local/lib/python3.7/dist-packages/sklearn/linear_model/_sag.py:354: ConvergenceWarning: The max_iter was reached which means the coef_ did not converge\n",
            "  ConvergenceWarning,\n",
            "/usr/local/lib/python3.7/dist-packages/sklearn/linear_model/_sag.py:354: ConvergenceWarning: The max_iter was reached which means the coef_ did not converge\n",
            "  ConvergenceWarning,\n",
            "/usr/local/lib/python3.7/dist-packages/sklearn/utils/optimize.py:212: ConvergenceWarning: newton-cg failed to converge. Increase the number of iterations.\n",
            "  ConvergenceWarning,\n",
            "/usr/local/lib/python3.7/dist-packages/sklearn/utils/optimize.py:212: ConvergenceWarning: newton-cg failed to converge. Increase the number of iterations.\n",
            "  ConvergenceWarning,\n",
            "/usr/local/lib/python3.7/dist-packages/sklearn/utils/optimize.py:212: ConvergenceWarning: newton-cg failed to converge. Increase the number of iterations.\n",
            "  ConvergenceWarning,\n",
            "/usr/local/lib/python3.7/dist-packages/sklearn/utils/optimize.py:212: ConvergenceWarning: newton-cg failed to converge. Increase the number of iterations.\n",
            "  ConvergenceWarning,\n",
            "/usr/local/lib/python3.7/dist-packages/sklearn/utils/optimize.py:212: ConvergenceWarning: newton-cg failed to converge. Increase the number of iterations.\n",
            "  ConvergenceWarning,\n",
            "/usr/local/lib/python3.7/dist-packages/sklearn/linear_model/_sag.py:354: ConvergenceWarning: The max_iter was reached which means the coef_ did not converge\n",
            "  ConvergenceWarning,\n",
            "/usr/local/lib/python3.7/dist-packages/sklearn/linear_model/_sag.py:354: ConvergenceWarning: The max_iter was reached which means the coef_ did not converge\n",
            "  ConvergenceWarning,\n",
            "/usr/local/lib/python3.7/dist-packages/sklearn/linear_model/_sag.py:354: ConvergenceWarning: The max_iter was reached which means the coef_ did not converge\n",
            "  ConvergenceWarning,\n",
            "/usr/local/lib/python3.7/dist-packages/sklearn/linear_model/_sag.py:354: ConvergenceWarning: The max_iter was reached which means the coef_ did not converge\n",
            "  ConvergenceWarning,\n",
            "/usr/local/lib/python3.7/dist-packages/sklearn/linear_model/_sag.py:354: ConvergenceWarning: The max_iter was reached which means the coef_ did not converge\n",
            "  ConvergenceWarning,\n",
            "/usr/local/lib/python3.7/dist-packages/sklearn/linear_model/_sag.py:354: ConvergenceWarning: The max_iter was reached which means the coef_ did not converge\n",
            "  ConvergenceWarning,\n",
            "/usr/local/lib/python3.7/dist-packages/sklearn/linear_model/_sag.py:354: ConvergenceWarning: The max_iter was reached which means the coef_ did not converge\n",
            "  ConvergenceWarning,\n",
            "/usr/local/lib/python3.7/dist-packages/sklearn/linear_model/_sag.py:354: ConvergenceWarning: The max_iter was reached which means the coef_ did not converge\n",
            "  ConvergenceWarning,\n",
            "/usr/local/lib/python3.7/dist-packages/sklearn/linear_model/_sag.py:354: ConvergenceWarning: The max_iter was reached which means the coef_ did not converge\n",
            "  ConvergenceWarning,\n",
            "/usr/local/lib/python3.7/dist-packages/sklearn/linear_model/_sag.py:354: ConvergenceWarning: The max_iter was reached which means the coef_ did not converge\n",
            "  ConvergenceWarning,\n",
            "/usr/local/lib/python3.7/dist-packages/sklearn/utils/optimize.py:212: ConvergenceWarning: newton-cg failed to converge. Increase the number of iterations.\n",
            "  ConvergenceWarning,\n",
            "/usr/local/lib/python3.7/dist-packages/sklearn/utils/optimize.py:212: ConvergenceWarning: newton-cg failed to converge. Increase the number of iterations.\n",
            "  ConvergenceWarning,\n",
            "/usr/local/lib/python3.7/dist-packages/sklearn/utils/optimize.py:212: ConvergenceWarning: newton-cg failed to converge. Increase the number of iterations.\n",
            "  ConvergenceWarning,\n",
            "/usr/local/lib/python3.7/dist-packages/sklearn/utils/optimize.py:212: ConvergenceWarning: newton-cg failed to converge. Increase the number of iterations.\n",
            "  ConvergenceWarning,\n",
            "/usr/local/lib/python3.7/dist-packages/sklearn/utils/optimize.py:212: ConvergenceWarning: newton-cg failed to converge. Increase the number of iterations.\n",
            "  ConvergenceWarning,\n",
            "/usr/local/lib/python3.7/dist-packages/sklearn/linear_model/_sag.py:354: ConvergenceWarning: The max_iter was reached which means the coef_ did not converge\n",
            "  ConvergenceWarning,\n",
            "/usr/local/lib/python3.7/dist-packages/sklearn/linear_model/_sag.py:354: ConvergenceWarning: The max_iter was reached which means the coef_ did not converge\n",
            "  ConvergenceWarning,\n",
            "/usr/local/lib/python3.7/dist-packages/sklearn/linear_model/_sag.py:354: ConvergenceWarning: The max_iter was reached which means the coef_ did not converge\n",
            "  ConvergenceWarning,\n",
            "/usr/local/lib/python3.7/dist-packages/sklearn/linear_model/_sag.py:354: ConvergenceWarning: The max_iter was reached which means the coef_ did not converge\n",
            "  ConvergenceWarning,\n",
            "/usr/local/lib/python3.7/dist-packages/sklearn/linear_model/_sag.py:354: ConvergenceWarning: The max_iter was reached which means the coef_ did not converge\n",
            "  ConvergenceWarning,\n",
            "/usr/local/lib/python3.7/dist-packages/sklearn/linear_model/_sag.py:354: ConvergenceWarning: The max_iter was reached which means the coef_ did not converge\n",
            "  ConvergenceWarning,\n",
            "/usr/local/lib/python3.7/dist-packages/sklearn/linear_model/_sag.py:354: ConvergenceWarning: The max_iter was reached which means the coef_ did not converge\n",
            "  ConvergenceWarning,\n",
            "/usr/local/lib/python3.7/dist-packages/sklearn/linear_model/_sag.py:354: ConvergenceWarning: The max_iter was reached which means the coef_ did not converge\n",
            "  ConvergenceWarning,\n",
            "/usr/local/lib/python3.7/dist-packages/sklearn/linear_model/_sag.py:354: ConvergenceWarning: The max_iter was reached which means the coef_ did not converge\n",
            "  ConvergenceWarning,\n",
            "/usr/local/lib/python3.7/dist-packages/sklearn/linear_model/_sag.py:354: ConvergenceWarning: The max_iter was reached which means the coef_ did not converge\n",
            "  ConvergenceWarning,\n",
            "/usr/local/lib/python3.7/dist-packages/sklearn/linear_model/_sag.py:354: ConvergenceWarning: The max_iter was reached which means the coef_ did not converge\n",
            "  ConvergenceWarning,\n",
            "/usr/local/lib/python3.7/dist-packages/sklearn/linear_model/_sag.py:354: ConvergenceWarning: The max_iter was reached which means the coef_ did not converge\n",
            "  ConvergenceWarning,\n",
            "/usr/local/lib/python3.7/dist-packages/sklearn/linear_model/_sag.py:354: ConvergenceWarning: The max_iter was reached which means the coef_ did not converge\n",
            "  ConvergenceWarning,\n",
            "/usr/local/lib/python3.7/dist-packages/sklearn/linear_model/_sag.py:354: ConvergenceWarning: The max_iter was reached which means the coef_ did not converge\n",
            "  ConvergenceWarning,\n",
            "/usr/local/lib/python3.7/dist-packages/sklearn/linear_model/_sag.py:354: ConvergenceWarning: The max_iter was reached which means the coef_ did not converge\n",
            "  ConvergenceWarning,\n",
            "/usr/local/lib/python3.7/dist-packages/sklearn/linear_model/_sag.py:354: ConvergenceWarning: The max_iter was reached which means the coef_ did not converge\n",
            "  ConvergenceWarning,\n",
            "/usr/local/lib/python3.7/dist-packages/sklearn/linear_model/_sag.py:354: ConvergenceWarning: The max_iter was reached which means the coef_ did not converge\n",
            "  ConvergenceWarning,\n",
            "/usr/local/lib/python3.7/dist-packages/sklearn/linear_model/_sag.py:354: ConvergenceWarning: The max_iter was reached which means the coef_ did not converge\n",
            "  ConvergenceWarning,\n",
            "/usr/local/lib/python3.7/dist-packages/sklearn/linear_model/_sag.py:354: ConvergenceWarning: The max_iter was reached which means the coef_ did not converge\n",
            "  ConvergenceWarning,\n",
            "/usr/local/lib/python3.7/dist-packages/sklearn/linear_model/_sag.py:354: ConvergenceWarning: The max_iter was reached which means the coef_ did not converge\n",
            "  ConvergenceWarning,\n",
            "/usr/local/lib/python3.7/dist-packages/sklearn/utils/optimize.py:212: ConvergenceWarning: newton-cg failed to converge. Increase the number of iterations.\n",
            "  ConvergenceWarning,\n",
            "/usr/local/lib/python3.7/dist-packages/sklearn/utils/optimize.py:212: ConvergenceWarning: newton-cg failed to converge. Increase the number of iterations.\n",
            "  ConvergenceWarning,\n",
            "/usr/local/lib/python3.7/dist-packages/sklearn/utils/optimize.py:212: ConvergenceWarning: newton-cg failed to converge. Increase the number of iterations.\n",
            "  ConvergenceWarning,\n",
            "/usr/local/lib/python3.7/dist-packages/sklearn/utils/optimize.py:212: ConvergenceWarning: newton-cg failed to converge. Increase the number of iterations.\n",
            "  ConvergenceWarning,\n",
            "/usr/local/lib/python3.7/dist-packages/sklearn/utils/optimize.py:212: ConvergenceWarning: newton-cg failed to converge. Increase the number of iterations.\n",
            "  ConvergenceWarning,\n",
            "/usr/local/lib/python3.7/dist-packages/sklearn/linear_model/_sag.py:354: ConvergenceWarning: The max_iter was reached which means the coef_ did not converge\n",
            "  ConvergenceWarning,\n",
            "/usr/local/lib/python3.7/dist-packages/sklearn/linear_model/_sag.py:354: ConvergenceWarning: The max_iter was reached which means the coef_ did not converge\n",
            "  ConvergenceWarning,\n",
            "/usr/local/lib/python3.7/dist-packages/sklearn/linear_model/_sag.py:354: ConvergenceWarning: The max_iter was reached which means the coef_ did not converge\n",
            "  ConvergenceWarning,\n",
            "/usr/local/lib/python3.7/dist-packages/sklearn/linear_model/_sag.py:354: ConvergenceWarning: The max_iter was reached which means the coef_ did not converge\n",
            "  ConvergenceWarning,\n",
            "/usr/local/lib/python3.7/dist-packages/sklearn/linear_model/_sag.py:354: ConvergenceWarning: The max_iter was reached which means the coef_ did not converge\n",
            "  ConvergenceWarning,\n",
            "/usr/local/lib/python3.7/dist-packages/sklearn/linear_model/_sag.py:354: ConvergenceWarning: The max_iter was reached which means the coef_ did not converge\n",
            "  ConvergenceWarning,\n",
            "/usr/local/lib/python3.7/dist-packages/sklearn/linear_model/_sag.py:354: ConvergenceWarning: The max_iter was reached which means the coef_ did not converge\n",
            "  ConvergenceWarning,\n",
            "/usr/local/lib/python3.7/dist-packages/sklearn/linear_model/_sag.py:354: ConvergenceWarning: The max_iter was reached which means the coef_ did not converge\n",
            "  ConvergenceWarning,\n",
            "/usr/local/lib/python3.7/dist-packages/sklearn/linear_model/_sag.py:354: ConvergenceWarning: The max_iter was reached which means the coef_ did not converge\n",
            "  ConvergenceWarning,\n",
            "/usr/local/lib/python3.7/dist-packages/sklearn/linear_model/_sag.py:354: ConvergenceWarning: The max_iter was reached which means the coef_ did not converge\n",
            "  ConvergenceWarning,\n",
            "/usr/local/lib/python3.7/dist-packages/sklearn/linear_model/_sag.py:354: ConvergenceWarning: The max_iter was reached which means the coef_ did not converge\n",
            "  ConvergenceWarning,\n",
            "/usr/local/lib/python3.7/dist-packages/sklearn/linear_model/_sag.py:354: ConvergenceWarning: The max_iter was reached which means the coef_ did not converge\n",
            "  ConvergenceWarning,\n",
            "/usr/local/lib/python3.7/dist-packages/sklearn/linear_model/_sag.py:354: ConvergenceWarning: The max_iter was reached which means the coef_ did not converge\n",
            "  ConvergenceWarning,\n",
            "/usr/local/lib/python3.7/dist-packages/sklearn/linear_model/_sag.py:354: ConvergenceWarning: The max_iter was reached which means the coef_ did not converge\n",
            "  ConvergenceWarning,\n",
            "/usr/local/lib/python3.7/dist-packages/sklearn/linear_model/_sag.py:354: ConvergenceWarning: The max_iter was reached which means the coef_ did not converge\n",
            "  ConvergenceWarning,\n",
            "/usr/local/lib/python3.7/dist-packages/sklearn/linear_model/_sag.py:354: ConvergenceWarning: The max_iter was reached which means the coef_ did not converge\n",
            "  ConvergenceWarning,\n",
            "/usr/local/lib/python3.7/dist-packages/sklearn/linear_model/_sag.py:354: ConvergenceWarning: The max_iter was reached which means the coef_ did not converge\n",
            "  ConvergenceWarning,\n",
            "/usr/local/lib/python3.7/dist-packages/sklearn/linear_model/_sag.py:354: ConvergenceWarning: The max_iter was reached which means the coef_ did not converge\n",
            "  ConvergenceWarning,\n",
            "/usr/local/lib/python3.7/dist-packages/sklearn/linear_model/_sag.py:354: ConvergenceWarning: The max_iter was reached which means the coef_ did not converge\n",
            "  ConvergenceWarning,\n",
            "/usr/local/lib/python3.7/dist-packages/sklearn/linear_model/_sag.py:354: ConvergenceWarning: The max_iter was reached which means the coef_ did not converge\n",
            "  ConvergenceWarning,\n",
            "/usr/local/lib/python3.7/dist-packages/sklearn/utils/optimize.py:212: ConvergenceWarning: newton-cg failed to converge. Increase the number of iterations.\n",
            "  ConvergenceWarning,\n",
            "/usr/local/lib/python3.7/dist-packages/sklearn/utils/optimize.py:212: ConvergenceWarning: newton-cg failed to converge. Increase the number of iterations.\n",
            "  ConvergenceWarning,\n",
            "/usr/local/lib/python3.7/dist-packages/sklearn/utils/optimize.py:212: ConvergenceWarning: newton-cg failed to converge. Increase the number of iterations.\n",
            "  ConvergenceWarning,\n",
            "/usr/local/lib/python3.7/dist-packages/sklearn/utils/optimize.py:212: ConvergenceWarning: newton-cg failed to converge. Increase the number of iterations.\n",
            "  ConvergenceWarning,\n",
            "/usr/local/lib/python3.7/dist-packages/sklearn/utils/optimize.py:212: ConvergenceWarning: newton-cg failed to converge. Increase the number of iterations.\n",
            "  ConvergenceWarning,\n",
            "/usr/local/lib/python3.7/dist-packages/sklearn/linear_model/_sag.py:354: ConvergenceWarning: The max_iter was reached which means the coef_ did not converge\n",
            "  ConvergenceWarning,\n",
            "/usr/local/lib/python3.7/dist-packages/sklearn/linear_model/_sag.py:354: ConvergenceWarning: The max_iter was reached which means the coef_ did not converge\n",
            "  ConvergenceWarning,\n",
            "/usr/local/lib/python3.7/dist-packages/sklearn/linear_model/_sag.py:354: ConvergenceWarning: The max_iter was reached which means the coef_ did not converge\n",
            "  ConvergenceWarning,\n",
            "/usr/local/lib/python3.7/dist-packages/sklearn/linear_model/_sag.py:354: ConvergenceWarning: The max_iter was reached which means the coef_ did not converge\n",
            "  ConvergenceWarning,\n",
            "/usr/local/lib/python3.7/dist-packages/sklearn/linear_model/_sag.py:354: ConvergenceWarning: The max_iter was reached which means the coef_ did not converge\n",
            "  ConvergenceWarning,\n",
            "/usr/local/lib/python3.7/dist-packages/sklearn/linear_model/_sag.py:354: ConvergenceWarning: The max_iter was reached which means the coef_ did not converge\n",
            "  ConvergenceWarning,\n",
            "/usr/local/lib/python3.7/dist-packages/sklearn/linear_model/_sag.py:354: ConvergenceWarning: The max_iter was reached which means the coef_ did not converge\n",
            "  ConvergenceWarning,\n",
            "/usr/local/lib/python3.7/dist-packages/sklearn/linear_model/_sag.py:354: ConvergenceWarning: The max_iter was reached which means the coef_ did not converge\n",
            "  ConvergenceWarning,\n",
            "/usr/local/lib/python3.7/dist-packages/sklearn/linear_model/_sag.py:354: ConvergenceWarning: The max_iter was reached which means the coef_ did not converge\n",
            "  ConvergenceWarning,\n",
            "/usr/local/lib/python3.7/dist-packages/sklearn/linear_model/_sag.py:354: ConvergenceWarning: The max_iter was reached which means the coef_ did not converge\n",
            "  ConvergenceWarning,\n",
            "/usr/local/lib/python3.7/dist-packages/sklearn/linear_model/_sag.py:354: ConvergenceWarning: The max_iter was reached which means the coef_ did not converge\n",
            "  ConvergenceWarning,\n",
            "/usr/local/lib/python3.7/dist-packages/sklearn/linear_model/_sag.py:354: ConvergenceWarning: The max_iter was reached which means the coef_ did not converge\n",
            "  ConvergenceWarning,\n",
            "/usr/local/lib/python3.7/dist-packages/sklearn/linear_model/_sag.py:354: ConvergenceWarning: The max_iter was reached which means the coef_ did not converge\n",
            "  ConvergenceWarning,\n",
            "/usr/local/lib/python3.7/dist-packages/sklearn/linear_model/_sag.py:354: ConvergenceWarning: The max_iter was reached which means the coef_ did not converge\n",
            "  ConvergenceWarning,\n",
            "/usr/local/lib/python3.7/dist-packages/sklearn/linear_model/_sag.py:354: ConvergenceWarning: The max_iter was reached which means the coef_ did not converge\n",
            "  ConvergenceWarning,\n",
            "/usr/local/lib/python3.7/dist-packages/sklearn/linear_model/_sag.py:354: ConvergenceWarning: The max_iter was reached which means the coef_ did not converge\n",
            "  ConvergenceWarning,\n",
            "/usr/local/lib/python3.7/dist-packages/sklearn/linear_model/_sag.py:354: ConvergenceWarning: The max_iter was reached which means the coef_ did not converge\n",
            "  ConvergenceWarning,\n",
            "/usr/local/lib/python3.7/dist-packages/sklearn/linear_model/_sag.py:354: ConvergenceWarning: The max_iter was reached which means the coef_ did not converge\n",
            "  ConvergenceWarning,\n",
            "/usr/local/lib/python3.7/dist-packages/sklearn/linear_model/_sag.py:354: ConvergenceWarning: The max_iter was reached which means the coef_ did not converge\n",
            "  ConvergenceWarning,\n",
            "/usr/local/lib/python3.7/dist-packages/sklearn/linear_model/_sag.py:354: ConvergenceWarning: The max_iter was reached which means the coef_ did not converge\n",
            "  ConvergenceWarning,\n",
            "/usr/local/lib/python3.7/dist-packages/sklearn/utils/optimize.py:212: ConvergenceWarning: newton-cg failed to converge. Increase the number of iterations.\n",
            "  ConvergenceWarning,\n",
            "/usr/local/lib/python3.7/dist-packages/sklearn/utils/optimize.py:212: ConvergenceWarning: newton-cg failed to converge. Increase the number of iterations.\n",
            "  ConvergenceWarning,\n",
            "/usr/local/lib/python3.7/dist-packages/sklearn/utils/optimize.py:212: ConvergenceWarning: newton-cg failed to converge. Increase the number of iterations.\n",
            "  ConvergenceWarning,\n",
            "/usr/local/lib/python3.7/dist-packages/sklearn/utils/optimize.py:212: ConvergenceWarning: newton-cg failed to converge. Increase the number of iterations.\n",
            "  ConvergenceWarning,\n",
            "/usr/local/lib/python3.7/dist-packages/sklearn/utils/optimize.py:212: ConvergenceWarning: newton-cg failed to converge. Increase the number of iterations.\n",
            "  ConvergenceWarning,\n",
            "/usr/local/lib/python3.7/dist-packages/sklearn/linear_model/_sag.py:354: ConvergenceWarning: The max_iter was reached which means the coef_ did not converge\n",
            "  ConvergenceWarning,\n",
            "/usr/local/lib/python3.7/dist-packages/sklearn/linear_model/_sag.py:354: ConvergenceWarning: The max_iter was reached which means the coef_ did not converge\n",
            "  ConvergenceWarning,\n",
            "/usr/local/lib/python3.7/dist-packages/sklearn/linear_model/_sag.py:354: ConvergenceWarning: The max_iter was reached which means the coef_ did not converge\n",
            "  ConvergenceWarning,\n",
            "/usr/local/lib/python3.7/dist-packages/sklearn/linear_model/_sag.py:354: ConvergenceWarning: The max_iter was reached which means the coef_ did not converge\n",
            "  ConvergenceWarning,\n",
            "/usr/local/lib/python3.7/dist-packages/sklearn/linear_model/_sag.py:354: ConvergenceWarning: The max_iter was reached which means the coef_ did not converge\n",
            "  ConvergenceWarning,\n",
            "/usr/local/lib/python3.7/dist-packages/sklearn/linear_model/_sag.py:354: ConvergenceWarning: The max_iter was reached which means the coef_ did not converge\n",
            "  ConvergenceWarning,\n",
            "/usr/local/lib/python3.7/dist-packages/sklearn/linear_model/_sag.py:354: ConvergenceWarning: The max_iter was reached which means the coef_ did not converge\n",
            "  ConvergenceWarning,\n",
            "/usr/local/lib/python3.7/dist-packages/sklearn/linear_model/_sag.py:354: ConvergenceWarning: The max_iter was reached which means the coef_ did not converge\n",
            "  ConvergenceWarning,\n",
            "/usr/local/lib/python3.7/dist-packages/sklearn/linear_model/_sag.py:354: ConvergenceWarning: The max_iter was reached which means the coef_ did not converge\n",
            "  ConvergenceWarning,\n",
            "/usr/local/lib/python3.7/dist-packages/sklearn/linear_model/_sag.py:354: ConvergenceWarning: The max_iter was reached which means the coef_ did not converge\n",
            "  ConvergenceWarning,\n",
            "/usr/local/lib/python3.7/dist-packages/sklearn/linear_model/_sag.py:354: ConvergenceWarning: The max_iter was reached which means the coef_ did not converge\n",
            "  ConvergenceWarning,\n",
            "/usr/local/lib/python3.7/dist-packages/sklearn/linear_model/_sag.py:354: ConvergenceWarning: The max_iter was reached which means the coef_ did not converge\n",
            "  ConvergenceWarning,\n",
            "/usr/local/lib/python3.7/dist-packages/sklearn/linear_model/_sag.py:354: ConvergenceWarning: The max_iter was reached which means the coef_ did not converge\n",
            "  ConvergenceWarning,\n",
            "/usr/local/lib/python3.7/dist-packages/sklearn/linear_model/_sag.py:354: ConvergenceWarning: The max_iter was reached which means the coef_ did not converge\n",
            "  ConvergenceWarning,\n",
            "/usr/local/lib/python3.7/dist-packages/sklearn/linear_model/_sag.py:354: ConvergenceWarning: The max_iter was reached which means the coef_ did not converge\n",
            "  ConvergenceWarning,\n",
            "/usr/local/lib/python3.7/dist-packages/sklearn/linear_model/_sag.py:354: ConvergenceWarning: The max_iter was reached which means the coef_ did not converge\n",
            "  ConvergenceWarning,\n",
            "/usr/local/lib/python3.7/dist-packages/sklearn/linear_model/_sag.py:354: ConvergenceWarning: The max_iter was reached which means the coef_ did not converge\n",
            "  ConvergenceWarning,\n",
            "/usr/local/lib/python3.7/dist-packages/sklearn/linear_model/_sag.py:354: ConvergenceWarning: The max_iter was reached which means the coef_ did not converge\n",
            "  ConvergenceWarning,\n",
            "/usr/local/lib/python3.7/dist-packages/sklearn/linear_model/_sag.py:354: ConvergenceWarning: The max_iter was reached which means the coef_ did not converge\n",
            "  ConvergenceWarning,\n",
            "/usr/local/lib/python3.7/dist-packages/sklearn/linear_model/_sag.py:354: ConvergenceWarning: The max_iter was reached which means the coef_ did not converge\n",
            "  ConvergenceWarning,\n"
          ]
        },
        {
          "output_type": "display_data",
          "data": {
            "text/plain": [
              "<Figure size 432x288 with 1 Axes>"
            ],
            "image/png": "[encoded data removed]"
          },
          "metadata": {
            "needs_background": "light"
          }
        }
      ]
    },
    {
      "cell_type": "code",
      "source": [
        "objects = list(df.columns)\n",
        "objects.pop()\n",
        "y_pos = np.arange(len(objects))\n",
        "performance = grid_2.best_estimator_.steps[1][1].feature_importances_\n",
        "\n",
        "plt.xlabel('Feature importance')\n",
        "plt.ylabel('Feature')\n",
        "plt.barh(y_pos, performance, align='center')\n",
        "plt.yticks(y_pos, objects)\n",
        "plt.show()"
      ],
      "metadata": {
        "id": "6OKMSXUwaAVd",
        "colab": {
          "base_uri": "https://localhost:8080/",
          "height": 279
        },
        "outputId": "a220f502-b368-4fc7-bde9-84c1774254b2"
      },
      "execution_count": 216,
      "outputs": [
        {
          "output_type": "display_data",
          "data": {
            "text/plain": [
              "<Figure size 432x288 with 1 Axes>"
            ],
            "image/png": "[encoded data removed]"
          },
          "metadata": {
            "needs_background": "light"
          }
        }
      ]
    },
    {
      "cell_type": "markdown",
      "source": [
        "Przejdźmy teraz do nauczenia sieci neuronowej\n"
      ],
      "metadata": {
        "id": "cH6zY6kAHb1n"
      }
    },
    {
      "cell_type": "code",
      "source": [
        "import tensorflow as tf\n",
        "from tensorflow import keras\n",
        "from tensorflow.keras.models import Sequential\n",
        "from tensorflow.keras.layers import Dense\n",
        "from keras.utils import np_utils\n",
        "from keras.callbacks import History\n",
        "\n",
        "scaler = StandardScaler()\n",
        "scaled_X_train = scaler.fit_transform(X_train)\n",
        "scaled_X_test = scaler.fit_transform(X_test)\n",
        "\n",
        "categorical_y_train = np_utils.to_categorical(y_train)\n",
        "categorical_y_test = np_utils.to_categorical(y_test)\n",
        "\n",
        "history = History()\n",
        "model = Sequential()\n",
        "model.add(Dense(7, activation=\"softmax\", input_dim=12))\n",
        "model.add(Dense(7, activation=\"softmax\"))\n",
        "model.add(Dense(7, activation=\"softmax\"))\n",
        "model.summary()"
      ],
      "metadata": {
        "id": "l4mk3k52Hay5",
        "colab": {
          "base_uri": "https://localhost:8080/"
        },
        "outputId": "4d3aa326-9ed7-4b49-f540-6a3f98e6508e"
      },
      "execution_count": 217,
      "outputs": [
        {
          "output_type": "stream",
          "name": "stdout",
          "text": [
            "Model: \"sequential_20\"\n",
            "_________________________________________________________________\n",
            " Layer (type)                Output Shape              Param #   \n",
            "=================================================================\n",
            " dense_61 (Dense)            (None, 7)                 91        \n",
            "                                                                 \n",
            " dense_62 (Dense)            (None, 7)                 56        \n",
            "                                                                 \n",
            " dense_63 (Dense)            (None, 7)                 56        \n",
            "                                                                 \n",
            "=================================================================\n",
            "Total params: 203\n",
            "Trainable params: 203\n",
            "Non-trainable params: 0\n",
            "_________________________________________________________________\n"
          ]
        }
      ]
    },
    {
      "cell_type": "code",
      "source": [
        "model.compile(loss=\"categorical_crossentropy\", optimizer=\"adam\", metrics=[\"accuracy\"])\n",
        "history = model.fit(scaled_X_train, categorical_y_train, validation_data=(scaled_X_test, categorical_y_test), batch_size=1, epochs=50)\n",
        "models.append(('Neural network', model))"
      ],
      "metadata": {
        "id": "oOx8Go0MIBNc",
        "colab": {
          "base_uri": "https://localhost:8080/"
        },
        "outputId": "a6fabc82-b460-4825-fc41-f724fa26dcb3"
      },
      "execution_count": 218,
      "outputs": [
        {
          "output_type": "stream",
          "name": "stdout",
          "text": [
            "Epoch 1/50\n",
            "2091/2091 [==============================] - 5s 2ms/step - loss: 1.8101 - accuracy: 0.3348 - val_loss: 1.5504 - val_accuracy: 0.4646\n",
            "Epoch 2/50\n",
            "2091/2091 [==============================] - 5s 2ms/step - loss: 1.3029 - accuracy: 0.4854 - val_loss: 1.1390 - val_accuracy: 0.4675\n",
            "Epoch 3/50\n",
            "2091/2091 [==============================] - 4s 2ms/step - loss: 1.0633 - accuracy: 0.5079 - val_loss: 1.0054 - val_accuracy: 0.4985\n",
            "Epoch 4/50\n",
            "2091/2091 [==============================] - 4s 2ms/step - loss: 0.9717 - accuracy: 0.5428 - val_loss: 0.9395 - val_accuracy: 0.5393\n",
            "Epoch 5/50\n",
            "2091/2091 [==============================] - 5s 2ms/step - loss: 0.9119 - accuracy: 0.5729 - val_loss: 0.8755 - val_accuracy: 0.5965\n",
            "Epoch 6/50\n",
            "2091/2091 [==============================] - 4s 2ms/step - loss: 0.8459 - accuracy: 0.6107 - val_loss: 0.8223 - val_accuracy: 0.6130\n",
            "Epoch 7/50\n",
            "2091/2091 [==============================] - 5s 2ms/step - loss: 0.7967 - accuracy: 0.6145 - val_loss: 0.7770 - val_accuracy: 0.6208\n",
            "Epoch 8/50\n",
            "2091/2091 [==============================] - 5s 2ms/step - loss: 0.7446 - accuracy: 0.6686 - val_loss: 0.7240 - val_accuracy: 0.6693\n",
            "Epoch 9/50\n",
            "2091/2091 [==============================] - 5s 2ms/step - loss: 0.6944 - accuracy: 0.6901 - val_loss: 0.6800 - val_accuracy: 0.6809\n",
            "Epoch 10/50\n",
            "2091/2091 [==============================] - 4s 2ms/step - loss: 0.6476 - accuracy: 0.6925 - val_loss: 0.6232 - val_accuracy: 0.6819\n",
            "Epoch 11/50\n",
            "2091/2091 [==============================] - 5s 2ms/step - loss: 0.5836 - accuracy: 0.6968 - val_loss: 0.5624 - val_accuracy: 0.6799\n",
            "Epoch 12/50\n",
            "2091/2091 [==============================] - 4s 2ms/step - loss: 0.5474 - accuracy: 0.6877 - val_loss: 0.5335 - val_accuracy: 0.7090\n",
            "Epoch 13/50\n",
            "2091/2091 [==============================] - 4s 2ms/step - loss: 0.5282 - accuracy: 0.7193 - val_loss: 0.5156 - val_accuracy: 0.7294\n",
            "Epoch 14/50\n",
            "2091/2091 [==============================] - 4s 2ms/step - loss: 0.5120 - accuracy: 0.7398 - val_loss: 0.4993 - val_accuracy: 0.7362\n",
            "Epoch 15/50\n",
            "2091/2091 [==============================] - 4s 2ms/step - loss: 0.4967 - accuracy: 0.7451 - val_loss: 0.4831 - val_accuracy: 0.7391\n",
            "Epoch 16/50\n",
            "2091/2091 [==============================] - 5s 2ms/step - loss: 0.4823 - accuracy: 0.7614 - val_loss: 0.4731 - val_accuracy: 0.7643\n",
            "Epoch 17/50\n",
            "2091/2091 [==============================] - 4s 2ms/step - loss: 0.4693 - accuracy: 0.7700 - val_loss: 0.4559 - val_accuracy: 0.7672\n",
            "Epoch 18/50\n",
            "2091/2091 [==============================] - 4s 2ms/step - loss: 0.4383 - accuracy: 0.8451 - val_loss: 0.3916 - val_accuracy: 0.9185\n",
            "Epoch 19/50\n",
            "2091/2091 [==============================] - 5s 2ms/step - loss: 0.3525 - accuracy: 0.9240 - val_loss: 0.3123 - val_accuracy: 0.9340\n",
            "Epoch 20/50\n",
            "2091/2091 [==============================] - 4s 2ms/step - loss: 0.2859 - accuracy: 0.9488 - val_loss: 0.2594 - val_accuracy: 0.9418\n",
            "Epoch 21/50\n",
            "2091/2091 [==============================] - 4s 2ms/step - loss: 0.2420 - accuracy: 0.9512 - val_loss: 0.2211 - val_accuracy: 0.9534\n",
            "Epoch 22/50\n",
            "2091/2091 [==============================] - 4s 2ms/step - loss: 0.2128 - accuracy: 0.9574 - val_loss: 0.2057 - val_accuracy: 0.9515\n",
            "Epoch 23/50\n",
            "2091/2091 [==============================] - 5s 2ms/step - loss: 0.1915 - accuracy: 0.9593 - val_loss: 0.1875 - val_accuracy: 0.9505\n",
            "Epoch 24/50\n",
            "2091/2091 [==============================] - 4s 2ms/step - loss: 0.1736 - accuracy: 0.9660 - val_loss: 0.1665 - val_accuracy: 0.9525\n",
            "Epoch 25/50\n",
            "2091/2091 [==============================] - 5s 2ms/step - loss: 0.1544 - accuracy: 0.9665 - val_loss: 0.1521 - val_accuracy: 0.9544\n",
            "Epoch 26/50\n",
            "2091/2091 [==============================] - 4s 2ms/step - loss: 0.1373 - accuracy: 0.9694 - val_loss: 0.1342 - val_accuracy: 0.9612\n",
            "Epoch 27/50\n",
            "2091/2091 [==============================] - 4s 2ms/step - loss: 0.1212 - accuracy: 0.9718 - val_loss: 0.1272 - val_accuracy: 0.9564\n",
            "Epoch 28/50\n",
            "2091/2091 [==============================] - 4s 2ms/step - loss: 0.1121 - accuracy: 0.9761 - val_loss: 0.1185 - val_accuracy: 0.9631\n",
            "Epoch 29/50\n",
            "2091/2091 [==============================] - 5s 2ms/step - loss: 0.1038 - accuracy: 0.9751 - val_loss: 0.1014 - val_accuracy: 0.9719\n",
            "Epoch 30/50\n",
            "2091/2091 [==============================] - 4s 2ms/step - loss: 0.0951 - accuracy: 0.9780 - val_loss: 0.0934 - val_accuracy: 0.9806\n",
            "Epoch 31/50\n",
            "2091/2091 [==============================] - 4s 2ms/step - loss: 0.0882 - accuracy: 0.9818 - val_loss: 0.0875 - val_accuracy: 0.9796\n",
            "Epoch 32/50\n",
            "2091/2091 [==============================] - 4s 2ms/step - loss: 0.0836 - accuracy: 0.9794 - val_loss: 0.0821 - val_accuracy: 0.9777\n",
            "Epoch 33/50\n",
            "2091/2091 [==============================] - 5s 2ms/step - loss: 0.0790 - accuracy: 0.9809 - val_loss: 0.0833 - val_accuracy: 0.9709\n",
            "Epoch 34/50\n",
            "2091/2091 [==============================] - 4s 2ms/step - loss: 0.0733 - accuracy: 0.9828 - val_loss: 0.0766 - val_accuracy: 0.9767\n",
            "Epoch 35/50\n",
            "2091/2091 [==============================] - 5s 2ms/step - loss: 0.0707 - accuracy: 0.9818 - val_loss: 0.0794 - val_accuracy: 0.9748\n",
            "Epoch 36/50\n",
            "2091/2091 [==============================] - 5s 2ms/step - loss: 0.0676 - accuracy: 0.9828 - val_loss: 0.0670 - val_accuracy: 0.9864\n",
            "Epoch 37/50\n",
            "2091/2091 [==============================] - 5s 2ms/step - loss: 0.0629 - accuracy: 0.9833 - val_loss: 0.0697 - val_accuracy: 0.9796\n",
            "Epoch 38/50\n",
            "2091/2091 [==============================] - 4s 2ms/step - loss: 0.0624 - accuracy: 0.9837 - val_loss: 0.0711 - val_accuracy: 0.9777\n",
            "Epoch 39/50\n",
            "2091/2091 [==============================] - 5s 2ms/step - loss: 0.0608 - accuracy: 0.9828 - val_loss: 0.0616 - val_accuracy: 0.9864\n",
            "Epoch 40/50\n",
            "2091/2091 [==============================] - 5s 2ms/step - loss: 0.0579 - accuracy: 0.9842 - val_loss: 0.0610 - val_accuracy: 0.9855\n",
            "Epoch 41/50\n",
            "2091/2091 [==============================] - 4s 2ms/step - loss: 0.0558 - accuracy: 0.9842 - val_loss: 0.0588 - val_accuracy: 0.9845\n",
            "Epoch 42/50\n",
            "2091/2091 [==============================] - 5s 2ms/step - loss: 0.0536 - accuracy: 0.9852 - val_loss: 0.0525 - val_accuracy: 0.9884\n",
            "Epoch 43/50\n",
            "2091/2091 [==============================] - 4s 2ms/step - loss: 0.0518 - accuracy: 0.9847 - val_loss: 0.0581 - val_accuracy: 0.9835\n",
            "Epoch 44/50\n",
            "2091/2091 [==============================] - 5s 2ms/step - loss: 0.0498 - accuracy: 0.9852 - val_loss: 0.0595 - val_accuracy: 0.9787\n",
            "Epoch 45/50\n",
            "2091/2091 [==============================] - 5s 2ms/step - loss: 0.0486 - accuracy: 0.9871 - val_loss: 0.0593 - val_accuracy: 0.9787\n",
            "Epoch 46/50\n",
            "2091/2091 [==============================] - 4s 2ms/step - loss: 0.0477 - accuracy: 0.9857 - val_loss: 0.0546 - val_accuracy: 0.9816\n",
            "Epoch 47/50\n",
            "2091/2091 [==============================] - 4s 2ms/step - loss: 0.0459 - accuracy: 0.9876 - val_loss: 0.0505 - val_accuracy: 0.9874\n",
            "Epoch 48/50\n",
            "2091/2091 [==============================] - 4s 2ms/step - loss: 0.0434 - accuracy: 0.9866 - val_loss: 0.0488 - val_accuracy: 0.9835\n",
            "Epoch 49/50\n",
            "2091/2091 [==============================] - 4s 2ms/step - loss: 0.0432 - accuracy: 0.9861 - val_loss: 0.0495 - val_accuracy: 0.9874\n",
            "Epoch 50/50\n",
            "2091/2091 [==============================] - 4s 2ms/step - loss: 0.0423 - accuracy: 0.9861 - val_loss: 0.0459 - val_accuracy: 0.9893\n"
          ]
        }
      ]
    },
    {
      "cell_type": "code",
      "source": [
        "pd.DataFrame(history.history).plot(figsize=(8, 5))\n",
        "plt.grid(True)\n",
        "plt.gca().set_ylim(0, 1)\n",
        "plt.show()"
      ],
      "metadata": {
        "id": "rAYeNO7MIWJt",
        "colab": {
          "base_uri": "https://localhost:8080/",
          "height": 324
        },
        "outputId": "37e0ac38-361c-4079-d976-516ee14ccaf2"
      },
      "execution_count": 219,
      "outputs": [
        {
          "output_type": "display_data",
          "data": {
            "text/plain": [
              "<Figure size 576x360 with 1 Axes>"
            ],
            "image/png": "[encoded data removed]"
          },
          "metadata": {
            "needs_background": "light"
          }
        }
      ]
    },
    {
      "cell_type": "markdown",
      "source": [
        "Podsumowanie, porównanie metryk wszytskich klasyfkatorów"
      ],
      "metadata": {
        "id": "gMy8vcpKLAg2"
      }
    },
    {
      "cell_type": "code",
      "source": [
        "from sklearn import metrics\n",
        "\n",
        "classifier = []\n",
        "accuracy_score = []\n",
        "precision_score = []\n",
        "recall_score = []\n",
        "f1_score = []\n",
        "\n",
        "def vote(arr):\n",
        "  ret = []\n",
        "  for x in arr:\n",
        "    ret.append(singleVote(x))\n",
        "  return ret\n",
        "\n",
        "def singleVote(vec):\n",
        "  max = vec[0]\n",
        "  index = 0\n",
        "  for i in range(1, 7):\n",
        "    if vec[i] > max:\n",
        "      max = vec[i]\n",
        "      index = i\n",
        "  return index\n",
        "\n",
        "for name, model in models:\n",
        "    if name == 'Neural network':\n",
        "      classifier.append(name)\n",
        "      accuracy_score.append(np.around(metrics.accuracy_score(y_test, vote(model.predict(scaled_X_test))), 2))\n",
        "      precision_score.append(np.around(metrics.precision_score(y_test, vote(model.predict(scaled_X_test)), average=None), 2))\n",
        "      recall_score.append(np.around(metrics.recall_score(y_test, vote(model.predict(scaled_X_test)), average=None), 2))\n",
        "      f1_score.append(np.around(metrics.f1_score(y_test, vote(model.predict(scaled_X_test)), average=None), 2))\n",
        "    else:\n",
        "      classifier.append(name)\n",
        "      accuracy_score.append(np.around(metrics.accuracy_score(y_test, model.predict(X_test)), 2))\n",
        "      precision_score.append(np.around(metrics.precision_score(y_test, model.predict(X_test), average=None), 2))\n",
        "      recall_score.append(np.around(metrics.recall_score(y_test, model.predict(X_test), average=None), 2))\n",
        "      f1_score.append(np.around(metrics.f1_score(y_test, model.predict(X_test), average=None), 2))\n",
        "\n",
        "d = {'classifier': classifier,\n",
        "     'accuracy_score' : accuracy_score,\n",
        "     'precision_score': precision_score, \n",
        "     'recall_score': recall_score, \n",
        "     'f1_score': f1_score\n",
        "    }\n",
        "scores = pd.DataFrame(data=d)\n",
        "scores"
      ],
      "metadata": {
        "id": "yzcbRIkoLCH-",
        "colab": {
          "base_uri": "https://localhost:8080/",
          "height": 175
        },
        "outputId": "75438b18-ceb1-4cee-ef52-0cb791b8f7f5"
      },
      "execution_count": 220,
      "outputs": [
        {
          "output_type": "execute_result",
          "data": {
            "text/plain": [
              "            classifier  accuracy_score  \\\n",
              "0              SVM rbf            1.00   \n",
              "1        Decision tree            0.99   \n",
              "2  Logistic regression            0.99   \n",
              "3       Neural network            0.99   \n",
              "\n",
              "                           precision_score  \\\n",
              "0    [1.0, 0.97, 0.99, 1.0, 1.0, 1.0, 1.0]   \n",
              "1    [1.0, 0.97, 0.99, 1.0, 1.0, 1.0, 1.0]   \n",
              "2  [1.0, 0.96, 0.99, 0.99, 1.0, 1.0, 0.99]   \n",
              "3  [1.0, 0.97, 0.98, 0.99, 1.0, 1.0, 0.99]   \n",
              "\n",
              "                             recall_score  \\\n",
              "0   [1.0, 0.99, 0.97, 1.0, 1.0, 1.0, 1.0]   \n",
              "1   [1.0, 0.99, 0.97, 1.0, 1.0, 1.0, 1.0]   \n",
              "2  [1.0, 0.99, 0.95, 0.99, 1.0, 1.0, 1.0]   \n",
              "3  [1.0, 0.98, 0.97, 0.98, 1.0, 1.0, 1.0]   \n",
              "\n",
              "                                  f1_score  \n",
              "0    [1.0, 0.98, 0.98, 1.0, 1.0, 1.0, 1.0]  \n",
              "1    [1.0, 0.98, 0.98, 1.0, 1.0, 1.0, 1.0]  \n",
              "2   [1.0, 0.97, 0.97, 0.99, 1.0, 1.0, 1.0]  \n",
              "3  [1.0, 0.97, 0.97, 0.99, 1.0, 1.0, 0.99]  "
            ],
            "text/html": [
              "\n",
              "  <div id=\"df-0011af08-2c0c-4940-a030-725978193053\">\n",
              "    <div class=\"colab-df-container\">\n",
              "      <div>\n",
              "<style scoped>\n",
              "    .dataframe tbody tr th:only-of-type {\n",
              "        vertical-align: middle;\n",
              "    }\n",
              "\n",
              "    .dataframe tbody tr th {\n",
              "        vertical-align: top;\n",
              "    }\n",
              "\n",
              "    .dataframe thead th {\n",
              "        text-align: right;\n",
              "    }\n",
              "</style>\n",
              "<table border=\"1\" class=\"dataframe\">\n",
              "  <thead>\n",
              "    <tr style=\"text-align: right;\">\n",
              "      <th></th>\n",
              "      <th>classifier</th>\n",
              "      <th>accuracy_score</th>\n",
              "      <th>precision_score</th>\n",
              "      <th>recall_score</th>\n",
              "      <th>f1_score</th>\n",
              "    </tr>\n",
              "  </thead>\n",
              "  <tbody>\n",
              "    <tr>\n",
              "      <th>0</th>\n",
              "      <td>SVM rbf</td>\n",
              "      <td>1.00</td>\n",
              "      <td>[1.0, 0.97, 0.99, 1.0, 1.0, 1.0, 1.0]</td>\n",
              "      <td>[1.0, 0.99, 0.97, 1.0, 1.0, 1.0, 1.0]</td>\n",
              "      <td>[1.0, 0.98, 0.98, 1.0, 1.0, 1.0, 1.0]</td>\n",
              "    </tr>\n",
              "    <tr>\n",
              "      <th>1</th>\n",
              "      <td>Decision tree</td>\n",
              "      <td>0.99</td>\n",
              "      <td>[1.0, 0.97, 0.99, 1.0, 1.0, 1.0, 1.0]</td>\n",
              "      <td>[1.0, 0.99, 0.97, 1.0, 1.0, 1.0, 1.0]</td>\n",
              "      <td>[1.0, 0.98, 0.98, 1.0, 1.0, 1.0, 1.0]</td>\n",
              "    </tr>\n",
              "    <tr>\n",
              "      <th>2</th>\n",
              "      <td>Logistic regression</td>\n",
              "      <td>0.99</td>\n",
              "      <td>[1.0, 0.96, 0.99, 0.99, 1.0, 1.0, 0.99]</td>\n",
              "      <td>[1.0, 0.99, 0.95, 0.99, 1.0, 1.0, 1.0]</td>\n",
              "      <td>[1.0, 0.97, 0.97, 0.99, 1.0, 1.0, 1.0]</td>\n",
              "    </tr>\n",
              "    <tr>\n",
              "      <th>3</th>\n",
              "      <td>Neural network</td>\n",
              "      <td>0.99</td>\n",
              "      <td>[1.0, 0.97, 0.98, 0.99, 1.0, 1.0, 0.99]</td>\n",
              "      <td>[1.0, 0.98, 0.97, 0.98, 1.0, 1.0, 1.0]</td>\n",
              "      <td>[1.0, 0.97, 0.97, 0.99, 1.0, 1.0, 0.99]</td>\n",
              "    </tr>\n",
              "  </tbody>\n",
              "</table>\n",
              "</div>\n",
              "      <button class=\"colab-df-convert\" onclick=\"convertToInteractive('df-0011af08-2c0c-4940-a030-725978193053')\"\n",
              "              title=\"Convert this dataframe to an interactive table.\"\n",
              "              style=\"display:none;\">\n",
              "        \n",
              "  <svg xmlns=\"http://www.w3.org/2000/svg\" height=\"24px\"viewBox=\"0 0 24 24\"\n",
              "       width=\"24px\">\n",
              "    <path d=\"M0 0h24v24H0V0z\" fill=\"none\"/>\n",
              "    <path d=\"M18.56 5.44l.94 2.06.94-2.06 2.06-.94-2.06-.94-.94-2.06-.94 2.06-2.06.94zm-11 1L8.5 8.5l.94-2.06 2.06-.94-2.06-.94L8.5 2.5l-.94 2.06-2.06.94zm10 10l.94 2.06.94-2.06 2.06-.94-2.06-.94-.94-2.06-.94 2.06-2.06.94z\"/><path d=\"M17.41 7.96l-1.37-1.37c-.4-.4-.92-.59-1.43-.59-.52 0-1.04.2-1.43.59L10.3 9.45l-7.72 7.72c-.78.78-.78 2.05 0 2.83L4 21.41c.39.39.9.59 1.41.59.51 0 1.02-.2 1.41-.59l7.78-7.78 2.81-2.81c.8-.78.8-2.07 0-2.86zM5.41 20L4 18.59l7.72-7.72 1.47 1.35L5.41 20z\"/>\n",
              "  </svg>\n",
              "      </button>\n",
              "      \n",
              "  <style>\n",
              "    .colab-df-container {\n",
              "      display:flex;\n",
              "      flex-wrap:wrap;\n",
              "      gap: 12px;\n",
              "    }\n",
              "\n",
              "    .colab-df-convert {\n",
              "      background-color: #E8F0FE;\n",
              "      border: none;\n",
              "      border-radius: 50%;\n",
              "      cursor: pointer;\n",
              "      display: none;\n",
              "      fill: #1967D2;\n",
              "      height: 32px;\n",
              "      padding: 0 0 0 0;\n",
              "      width: 32px;\n",
              "    }\n",
              "\n",
              "    .colab-df-convert:hover {\n",
              "      background-color: #E2EBFA;\n",
              "      box-shadow: 0px 1px 2px rgba(60, 64, 67, 0.3), 0px 1px 3px 1px rgba(60, 64, 67, 0.15);\n",
              "      fill: #174EA6;\n",
              "    }\n",
              "\n",
              "    [theme=dark] .colab-df-convert {\n",
              "      background-color: #3B4455;\n",
              "      fill: #D2E3FC;\n",
              "    }\n",
              "\n",
              "    [theme=dark] .colab-df-convert:hover {\n",
              "      background-color: #434B5C;\n",
              "      box-shadow: 0px 1px 3px 1px rgba(0, 0, 0, 0.15);\n",
              "      filter: drop-shadow(0px 1px 2px rgba(0, 0, 0, 0.3));\n",
              "      fill: #FFFFFF;\n",
              "    }\n",
              "  </style>\n",
              "\n",
              "      <script>\n",
              "        const buttonEl =\n",
              "          document.querySelector('#df-0011af08-2c0c-4940-a030-725978193053 button.colab-df-convert');\n",
              "        buttonEl.style.display =\n",
              "          google.colab.kernel.accessAllowed ? 'block' : 'none';\n",
              "\n",
              "        async function convertToInteractive(key) {\n",
              "          const element = document.querySelector('#df-0011af08-2c0c-4940-a030-725978193053');\n",
              "          const dataTable =\n",
              "            await google.colab.kernel.invokeFunction('convertToInteractive',\n",
              "                                                     [key], {});\n",
              "          if (!dataTable) return;\n",
              "\n",
              "          const docLinkHtml = 'Like what you see? Visit the ' +\n",
              "            '<a target=\"_blank\" href=https://colab.research.google.com/notebooks/data_table.ipynb>data table notebook</a>'\n",
              "            + ' to learn more about interactive tables.';\n",
              "          element.innerHTML = '';\n",
              "          dataTable['output_type'] = 'display_data';\n",
              "          await google.colab.output.renderOutput(dataTable, element);\n",
              "          const docLink = document.createElement('div');\n",
              "          docLink.innerHTML = docLinkHtml;\n",
              "          element.appendChild(docLink);\n",
              "        }\n",
              "      </script>\n",
              "    </div>\n",
              "  </div>\n",
              "  "
            ]
          },
          "metadata": {},
          "execution_count": 220
        }
      ]
    }
  ],
  "metadata": {
    "kernelspec": {
      "display_name": "Python 3",
      "language": "python",
      "name": "python3"
    },
    "language_info": {
      "codemirror_mode": {
        "name": "ipython",
        "version": 3
      },
      "file_extension": ".py",
      "mimetype": "text/x-python",
      "name": "python",
      "nbconvert_exporter": "python",
      "pygments_lexer": "ipython3",
      "version": "3.8.5"
    },
    "colab": {
      "name": "Car Body Type Classification.ipynb",
      "provenance": [],
      "collapsed_sections": []
    }
  },
  "nbformat": 4,
  "nbformat_minor": 0
}